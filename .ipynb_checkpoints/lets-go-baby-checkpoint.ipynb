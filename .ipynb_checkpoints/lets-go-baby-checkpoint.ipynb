{
 "cells": [
  {
   "cell_type": "markdown",
   "id": "96d34c17-0a1d-44f7-baff-b7e016aacfbe",
   "metadata": {},
   "source": [
    "# Getting Raw Data into Dataframes\n"
   ]
  },
  {
   "cell_type": "code",
   "execution_count": 21,
   "id": "affa3aab-495d-4dc6-aa5d-4856527174ab",
   "metadata": {},
   "outputs": [],
   "source": [
    "# basic imports\n",
    "from IPython.display import display, Markdown, HTML\n",
    "import numpy as np\n",
    "\n"
   ]
  },
  {
   "cell_type": "markdown",
   "id": "2d5e9fc9-a976-4f82-884a-7d45a498262a",
   "metadata": {
    "lines_to_next_cell": 0
   },
   "source": [
    "## Import Spot Yield Data "
   ]
  },
  {
   "cell_type": "code",
   "execution_count": 22,
   "id": "71e1ae0a-efdf-4d40-a09f-667ef726aaa6",
   "metadata": {
    "jupyter": {
     "source_hidden": true
    }
   },
   "outputs": [],
   "source": [
    "import pandas as pd\n",
    "\n",
    "#load in first spreadsheet to df1\n",
    "df1 = pd.read_excel(\"GLC Nominal month end data_1970 to 2015.xlsx\",sheet_name=\"4. spot curve\",engine=\"openpyxl\",skiprows=5,header=None)\n",
    "#create an appropriate set of headers\n",
    "col_names=pd.read_excel(\"GLC Nominal month end data_1970 to 2015.xlsx\",sheet_name=\"4. spot curve\",engine=\"openpyxl\",skiprows=3,nrows=1,header=None)\n",
    "col_names[0]=\"Date\"\n",
    "df1.columns = col_names.iloc[0] \n",
    "#load in second spreadsheet to df2\n",
    "df2 = pd.read_excel(\"GLC Nominal month end data_2016 to present.xlsx\",sheet_name=\"4. spot curve\",engine=\"openpyxl\",skiprows=5,header=None)\n",
    "#create an appropriate set of headers\n",
    "col_names2=pd.read_excel(\"GLC Nominal month end data_2016 to present.xlsx\",sheet_name=\"4. spot curve\",engine=\"openpyxl\",skiprows=3,nrows=1,header=None)\n",
    "col_names2[0]=\"Date\"\n",
    "df2.columns = col_names2.iloc[0]"
   ]
  },
  {
   "cell_type": "code",
   "execution_count": 23,
   "id": "3df351e1-1722-4a86-b6e2-1b7e5b7904a8",
   "metadata": {},
   "outputs": [
    {
     "name": "stdout",
     "output_type": "stream",
     "text": [
      "The length of combined dataframe is 660 rows\n"
     ]
    }
   ],
   "source": [
    "#join the two dataframes to create df\n",
    "df = pd.concat([df1, df2], ignore_index=True)\n",
    "print(\"The length of combined dataframe is \"+str(len(df))+\" rows\")"
   ]
  },
  {
   "cell_type": "markdown",
   "id": "b7312116",
   "metadata": {},
   "source": [
    "##Perform Basic Reasonableness Checks\n",
    "### A Check on the Number of Rows"
   ]
  },
  {
   "cell_type": "code",
   "execution_count": 24,
   "id": "5f4d3d71-0b21-4aab-afad-fd42bd074527",
   "metadata": {},
   "outputs": [
    {
     "data": {
      "text/markdown": [
       "**Checking Dataframe 1 -  1970 to 2015**"
      ],
      "text/plain": [
       "<IPython.core.display.Markdown object>"
      ]
     },
     "metadata": {},
     "output_type": "display_data"
    },
    {
     "name": "stdout",
     "output_type": "stream",
     "text": [
      "the first dates is 1970-01-31 and the last is 2015-12-31\n",
      "one would therefore expect 12 x 46yrs = 552 entries\n",
      "and indeed we see the number of rows in df is 552\n"
     ]
    }
   ],
   "source": [
    "#producing some sense checks\n",
    "display(Markdown(\"**Checking Dataframe 1 -  1970 to 2015**\")) \n",
    "print(\"the first dates is \"+ str(df.iloc[0,0].strftime('%Y-%m-%d'))+\" and the last is \" +str(df.iloc[551,0].strftime('%Y-%m-%d') ))\n",
    "print(\"one would therefore expect 12 x 46yrs = 552 entries\")\n",
    "print(\"and indeed we see the number of rows in df is \"+str(len(df1)))"
   ]
  },
  {
   "cell_type": "code",
   "execution_count": 25,
   "id": "f55dcde1-6fb3-488b-bdc6-d91773e78b18",
   "metadata": {},
   "outputs": [
    {
     "data": {
      "text/markdown": [
       "**Checking Dataframe 2 -  2015 to present**"
      ],
      "text/plain": [
       "<IPython.core.display.Markdown object>"
      ]
     },
     "metadata": {},
     "output_type": "display_data"
    },
    {
     "name": "stdout",
     "output_type": "stream",
     "text": [
      "the first dates is 2016-01-31 and the last is 2024-12-31\n",
      "one would therefore expect 12 x 9yrs = 108 entries\n",
      "and indeed we see the number of rows in df is 108\n"
     ]
    }
   ],
   "source": [
    "display(Markdown(\"**Checking Dataframe 2 -  2015 to present**\")) \n",
    "print(\"the first dates is \"+ str(df.iloc[552,0].strftime('%Y-%m-%d'))+\" and the last is \" +str(df.iloc[659,0].strftime('%Y-%m-%d') ))\n",
    "print(\"one would therefore expect 12 x 9yrs = 108 entries\")\n",
    "print(\"and indeed we see the number of rows in df is \"+str(len(df2)))"
   ]
  },
  {
   "cell_type": "markdown",
   "id": "8d08ac29",
   "metadata": {},
   "source": [
    "### A Check on the Sum of Values"
   ]
  },
  {
   "cell_type": "code",
   "execution_count": 26,
   "id": "20129d73-6936-4e79-b2b9-85a56a5cce17",
   "metadata": {},
   "outputs": [
    {
     "data": {
      "text/markdown": [
       "**sum of values check**"
      ],
      "text/plain": [
       "<IPython.core.display.Markdown object>"
      ]
     },
     "metadata": {},
     "output_type": "display_data"
    },
    {
     "name": "stdout",
     "output_type": "stream",
     "text": [
      "manual inspection of the sum of all values in first spreadsheet is 191503.172322029\n",
      "the sume of 1st dataframe is also 191503.17232202887\n"
     ]
    },
    {
     "data": {
      "text/html": [
       "<span style='color:red;'>the very minor differences are because ....</span>"
      ],
      "text/plain": [
       "<IPython.core.display.HTML object>"
      ]
     },
     "metadata": {},
     "output_type": "display_data"
    },
    {
     "name": "stdout",
     "output_type": "stream",
     "text": [
      "the sum of all values in second spreadsheet is 17844.9993308767\n",
      "the sume of 1st dataframe is also 17844.999330876683\n"
     ]
    },
    {
     "data": {
      "text/html": [
       "<span style='color:red;'>the very minor differences are because ....</span>"
      ],
      "text/plain": [
       "<IPython.core.display.HTML object>"
      ]
     },
     "metadata": {},
     "output_type": "display_data"
    },
    {
     "name": "stdout",
     "output_type": "stream",
     "text": [
      "the sum of combined dataframe is  209348.17165290558\n",
      "and the sum of the manually observed 191503.172322029 + 17844.9993308767 = 209348.1716529057\n"
     ]
    }
   ],
   "source": [
    "display(Markdown(\"**sum of values check**\")) \n",
    "print(\"manual inspection of the sum of all values in first spreadsheet is 191503.172322029\")\n",
    "print(\"the sume of 1st dataframe is also \" + str(df1.iloc[:, 1:].sum().sum()))\n",
    "display(HTML(\"<span style='color:red;'>the very minor differences are because ....</span>\"))\n",
    "print(\"the sum of all values in second spreadsheet is 17844.9993308767\")\n",
    "print(\"the sume of 1st dataframe is also \" + str(df2.iloc[:, 1:].sum().sum()))\n",
    "display(HTML(\"<span style='color:red;'>the very minor differences are because ....</span>\"))\n",
    "print(\"the sum of combined dataframe is  \" + str(df.iloc[:, 1:].sum().sum()))\n",
    "combined_total = 191503.172322029 + 17844.9993308767\n",
    "print(\"and the sum of the manually observed 191503.172322029 + 17844.9993308767 = \" + str(combined_total))"
   ]
  },
  {
   "cell_type": "markdown",
   "id": "4c1ec697",
   "metadata": {},
   "source": [
    "## Calculate Spot Yield Differences\n",
    "### Purpose\n",
    "We want to calculate the natural log differences of spot yields.\n",
    "\n",
    "### .apply() function\n",
    "We want to use np.log() function.  to an individual value we can use it directly\n",
    "but if applying into to a panda series or dataframe we need to use .apply()\n",
    "\n",
    "### futher complications with dtype:object\n",
    "sometimes pandas is treating values as generic python objects not efficient numeric types even if they look like floats\n",
    "it seems to happen when slicing rows.\n",
    "a fix is to use .astype(float) before applying functions like np.log\n",
    "\n",
    "\n"
   ]
  },
  {
   "cell_type": "markdown",
   "id": "06a41091",
   "metadata": {},
   "source": [
    "### Combined Dataframe"
   ]
  },
  {
   "cell_type": "code",
   "execution_count": 27,
   "id": "15378016",
   "metadata": {
    "lines_to_next_cell": 2
   },
   "outputs": [
    {
     "data": {
      "text/html": [
       "<div>\n",
       "<style scoped>\n",
       "    .dataframe tbody tr th:only-of-type {\n",
       "        vertical-align: middle;\n",
       "    }\n",
       "\n",
       "    .dataframe tbody tr th {\n",
       "        vertical-align: top;\n",
       "    }\n",
       "\n",
       "    .dataframe thead th {\n",
       "        text-align: right;\n",
       "    }\n",
       "</style>\n",
       "<table border=\"1\" class=\"dataframe\">\n",
       "  <thead>\n",
       "    <tr style=\"text-align: right;\">\n",
       "      <th></th>\n",
       "      <th>Date</th>\n",
       "      <th>0.5</th>\n",
       "      <th>1</th>\n",
       "      <th>1.5</th>\n",
       "      <th>2</th>\n",
       "      <th>2.5</th>\n",
       "      <th>3</th>\n",
       "      <th>3.5</th>\n",
       "      <th>4</th>\n",
       "      <th>4.5</th>\n",
       "      <th>...</th>\n",
       "      <th>35.5</th>\n",
       "      <th>36</th>\n",
       "      <th>36.5</th>\n",
       "      <th>37</th>\n",
       "      <th>37.5</th>\n",
       "      <th>38</th>\n",
       "      <th>38.5</th>\n",
       "      <th>39</th>\n",
       "      <th>39.5</th>\n",
       "      <th>40</th>\n",
       "    </tr>\n",
       "  </thead>\n",
       "  <tbody>\n",
       "    <tr>\n",
       "      <th>0</th>\n",
       "      <td>1970-01-31</td>\n",
       "      <td>NaN</td>\n",
       "      <td>8.635354</td>\n",
       "      <td>8.707430</td>\n",
       "      <td>8.700727</td>\n",
       "      <td>8.664049</td>\n",
       "      <td>8.618702</td>\n",
       "      <td>8.572477</td>\n",
       "      <td>8.528372</td>\n",
       "      <td>8.487617</td>\n",
       "      <td>...</td>\n",
       "      <td>NaN</td>\n",
       "      <td>NaN</td>\n",
       "      <td>NaN</td>\n",
       "      <td>NaN</td>\n",
       "      <td>NaN</td>\n",
       "      <td>NaN</td>\n",
       "      <td>NaN</td>\n",
       "      <td>NaN</td>\n",
       "      <td>NaN</td>\n",
       "      <td>NaN</td>\n",
       "    </tr>\n",
       "    <tr>\n",
       "      <th>1</th>\n",
       "      <td>1970-02-28</td>\n",
       "      <td>NaN</td>\n",
       "      <td>8.413131</td>\n",
       "      <td>8.397269</td>\n",
       "      <td>8.370748</td>\n",
       "      <td>8.337633</td>\n",
       "      <td>8.301590</td>\n",
       "      <td>8.265403</td>\n",
       "      <td>8.230804</td>\n",
       "      <td>8.198713</td>\n",
       "      <td>...</td>\n",
       "      <td>NaN</td>\n",
       "      <td>NaN</td>\n",
       "      <td>NaN</td>\n",
       "      <td>NaN</td>\n",
       "      <td>NaN</td>\n",
       "      <td>NaN</td>\n",
       "      <td>NaN</td>\n",
       "      <td>NaN</td>\n",
       "      <td>NaN</td>\n",
       "      <td>NaN</td>\n",
       "    </tr>\n",
       "    <tr>\n",
       "      <th>2</th>\n",
       "      <td>1970-03-31</td>\n",
       "      <td>NaN</td>\n",
       "      <td>7.744187</td>\n",
       "      <td>7.782761</td>\n",
       "      <td>7.795017</td>\n",
       "      <td>7.793104</td>\n",
       "      <td>7.784963</td>\n",
       "      <td>7.775288</td>\n",
       "      <td>7.766459</td>\n",
       "      <td>7.759564</td>\n",
       "      <td>...</td>\n",
       "      <td>NaN</td>\n",
       "      <td>NaN</td>\n",
       "      <td>NaN</td>\n",
       "      <td>NaN</td>\n",
       "      <td>NaN</td>\n",
       "      <td>NaN</td>\n",
       "      <td>NaN</td>\n",
       "      <td>NaN</td>\n",
       "      <td>NaN</td>\n",
       "      <td>NaN</td>\n",
       "    </tr>\n",
       "    <tr>\n",
       "      <th>3</th>\n",
       "      <td>1970-04-30</td>\n",
       "      <td>NaN</td>\n",
       "      <td>7.606512</td>\n",
       "      <td>7.864352</td>\n",
       "      <td>7.973522</td>\n",
       "      <td>8.002442</td>\n",
       "      <td>7.992813</td>\n",
       "      <td>7.967524</td>\n",
       "      <td>7.938335</td>\n",
       "      <td>7.911422</td>\n",
       "      <td>...</td>\n",
       "      <td>NaN</td>\n",
       "      <td>NaN</td>\n",
       "      <td>NaN</td>\n",
       "      <td>NaN</td>\n",
       "      <td>NaN</td>\n",
       "      <td>NaN</td>\n",
       "      <td>NaN</td>\n",
       "      <td>NaN</td>\n",
       "      <td>NaN</td>\n",
       "      <td>NaN</td>\n",
       "    </tr>\n",
       "    <tr>\n",
       "      <th>4</th>\n",
       "      <td>1970-05-31</td>\n",
       "      <td>NaN</td>\n",
       "      <td>7.391107</td>\n",
       "      <td>7.735838</td>\n",
       "      <td>7.862182</td>\n",
       "      <td>7.877510</td>\n",
       "      <td>7.840673</td>\n",
       "      <td>7.782249</td>\n",
       "      <td>7.718053</td>\n",
       "      <td>7.656856</td>\n",
       "      <td>...</td>\n",
       "      <td>NaN</td>\n",
       "      <td>NaN</td>\n",
       "      <td>NaN</td>\n",
       "      <td>NaN</td>\n",
       "      <td>NaN</td>\n",
       "      <td>NaN</td>\n",
       "      <td>NaN</td>\n",
       "      <td>NaN</td>\n",
       "      <td>NaN</td>\n",
       "      <td>NaN</td>\n",
       "    </tr>\n",
       "  </tbody>\n",
       "</table>\n",
       "<p>5 rows × 81 columns</p>\n",
       "</div>"
      ],
      "text/plain": [
       "0       Date  0.5         1       1.5         2       2.5         3       3.5  \\\n",
       "0 1970-01-31  NaN  8.635354  8.707430  8.700727  8.664049  8.618702  8.572477   \n",
       "1 1970-02-28  NaN  8.413131  8.397269  8.370748  8.337633  8.301590  8.265403   \n",
       "2 1970-03-31  NaN  7.744187  7.782761  7.795017  7.793104  7.784963  7.775288   \n",
       "3 1970-04-30  NaN  7.606512  7.864352  7.973522  8.002442  7.992813  7.967524   \n",
       "4 1970-05-31  NaN  7.391107  7.735838  7.862182  7.877510  7.840673  7.782249   \n",
       "\n",
       "0         4       4.5  ...  35.5  36  36.5  37  37.5  38  38.5  39  39.5  40  \n",
       "0  8.528372  8.487617  ...   NaN NaN   NaN NaN   NaN NaN   NaN NaN   NaN NaN  \n",
       "1  8.230804  8.198713  ...   NaN NaN   NaN NaN   NaN NaN   NaN NaN   NaN NaN  \n",
       "2  7.766459  7.759564  ...   NaN NaN   NaN NaN   NaN NaN   NaN NaN   NaN NaN  \n",
       "3  7.938335  7.911422  ...   NaN NaN   NaN NaN   NaN NaN   NaN NaN   NaN NaN  \n",
       "4  7.718053  7.656856  ...   NaN NaN   NaN NaN   NaN NaN   NaN NaN   NaN NaN  \n",
       "\n",
       "[5 rows x 81 columns]"
      ]
     },
     "execution_count": 27,
     "metadata": {},
     "output_type": "execute_result"
    }
   ],
   "source": [
    "df.head()"
   ]
  },
  {
   "cell_type": "markdown",
   "id": "acdc09cc",
   "metadata": {},
   "source": [
    "### Applying Natural Log to the first row          \n",
    "\n",
    "\n",
    "\n",
    "\n",
    "\n"
   ]
  },
  {
   "cell_type": "code",
   "execution_count": 28,
   "id": "089921ab-4e37-4661-a9eb-3da7cae5f52f",
   "metadata": {
    "scrolled": true
   },
   "outputs": [
    {
     "data": {
      "text/markdown": [
       "__first row no adjustments:__"
      ],
      "text/plain": [
       "<IPython.core.display.Markdown object>"
      ]
     },
     "metadata": {},
     "output_type": "display_data"
    },
    {
     "data": {
      "text/html": [
       "<table border=\"1\" class=\"dataframe\">\n",
       "  <thead>\n",
       "    <tr style=\"text-align: right;\">\n",
       "      <th></th>\n",
       "      <th>0.5</th>\n",
       "      <th>1</th>\n",
       "      <th>1.5</th>\n",
       "      <th>2</th>\n",
       "      <th>2.5</th>\n",
       "      <th>3</th>\n",
       "      <th>3.5</th>\n",
       "      <th>4</th>\n",
       "      <th>4.5</th>\n",
       "      <th>5</th>\n",
       "      <th>5.5</th>\n",
       "      <th>6</th>\n",
       "      <th>6.5</th>\n",
       "      <th>7</th>\n",
       "      <th>7.5</th>\n",
       "      <th>8</th>\n",
       "      <th>8.5</th>\n",
       "      <th>9</th>\n",
       "      <th>9.5</th>\n",
       "      <th>10</th>\n",
       "      <th>10.5</th>\n",
       "      <th>11</th>\n",
       "      <th>11.5</th>\n",
       "      <th>12</th>\n",
       "      <th>12.5</th>\n",
       "      <th>13</th>\n",
       "      <th>13.5</th>\n",
       "      <th>14</th>\n",
       "      <th>14.5</th>\n",
       "      <th>15</th>\n",
       "      <th>15.5</th>\n",
       "      <th>16</th>\n",
       "      <th>16.5</th>\n",
       "      <th>17</th>\n",
       "      <th>17.5</th>\n",
       "      <th>18</th>\n",
       "      <th>18.5</th>\n",
       "      <th>19</th>\n",
       "      <th>19.5</th>\n",
       "      <th>20</th>\n",
       "      <th>20.5</th>\n",
       "      <th>21</th>\n",
       "      <th>21.5</th>\n",
       "      <th>22</th>\n",
       "      <th>22.5</th>\n",
       "      <th>23</th>\n",
       "      <th>23.5</th>\n",
       "      <th>24</th>\n",
       "      <th>24.5</th>\n",
       "      <th>25</th>\n",
       "      <th>25.5</th>\n",
       "      <th>26</th>\n",
       "      <th>26.5</th>\n",
       "      <th>27</th>\n",
       "      <th>27.5</th>\n",
       "      <th>28</th>\n",
       "      <th>28.5</th>\n",
       "      <th>29</th>\n",
       "      <th>29.5</th>\n",
       "      <th>30</th>\n",
       "      <th>30.5</th>\n",
       "      <th>31</th>\n",
       "      <th>31.5</th>\n",
       "      <th>32</th>\n",
       "      <th>32.5</th>\n",
       "      <th>33</th>\n",
       "      <th>33.5</th>\n",
       "      <th>34</th>\n",
       "      <th>34.5</th>\n",
       "      <th>35</th>\n",
       "      <th>35.5</th>\n",
       "      <th>36</th>\n",
       "      <th>36.5</th>\n",
       "      <th>37</th>\n",
       "      <th>37.5</th>\n",
       "      <th>38</th>\n",
       "      <th>38.5</th>\n",
       "      <th>39</th>\n",
       "      <th>39.5</th>\n",
       "      <th>40</th>\n",
       "    </tr>\n",
       "  </thead>\n",
       "  <tbody>\n",
       "    <tr>\n",
       "      <th>0</th>\n",
       "      <td>NaN</td>\n",
       "      <td>8.635354</td>\n",
       "      <td>8.70743</td>\n",
       "      <td>8.700727</td>\n",
       "      <td>8.664049</td>\n",
       "      <td>8.618702</td>\n",
       "      <td>8.572477</td>\n",
       "      <td>8.528372</td>\n",
       "      <td>8.487617</td>\n",
       "      <td>8.450611</td>\n",
       "      <td>8.417442</td>\n",
       "      <td>8.388098</td>\n",
       "      <td>8.362503</td>\n",
       "      <td>8.340549</td>\n",
       "      <td>8.322116</td>\n",
       "      <td>8.307105</td>\n",
       "      <td>8.295429</td>\n",
       "      <td>8.287013</td>\n",
       "      <td>8.281788</td>\n",
       "      <td>8.279691</td>\n",
       "      <td>8.280665</td>\n",
       "      <td>8.284653</td>\n",
       "      <td>8.291604</td>\n",
       "      <td>8.301467</td>\n",
       "      <td>8.314193</td>\n",
       "      <td>8.329735</td>\n",
       "      <td>8.348046</td>\n",
       "      <td>8.369082</td>\n",
       "      <td>8.392797</td>\n",
       "      <td>8.419147</td>\n",
       "      <td>8.448088</td>\n",
       "      <td>8.479578</td>\n",
       "      <td>8.513574</td>\n",
       "      <td>8.550034</td>\n",
       "      <td>8.588914</td>\n",
       "      <td>8.630173</td>\n",
       "      <td>8.67377</td>\n",
       "      <td>8.719662</td>\n",
       "      <td>8.767809</td>\n",
       "      <td>8.818169</td>\n",
       "      <td>8.8707</td>\n",
       "      <td>8.925363</td>\n",
       "      <td>8.982115</td>\n",
       "      <td>9.040916</td>\n",
       "      <td>9.101725</td>\n",
       "      <td>9.164502</td>\n",
       "      <td>9.229205</td>\n",
       "      <td>9.295793</td>\n",
       "      <td>9.364219</td>\n",
       "      <td>9.434411</td>\n",
       "      <td>NaN</td>\n",
       "      <td>NaN</td>\n",
       "      <td>NaN</td>\n",
       "      <td>NaN</td>\n",
       "      <td>NaN</td>\n",
       "      <td>NaN</td>\n",
       "      <td>NaN</td>\n",
       "      <td>NaN</td>\n",
       "      <td>NaN</td>\n",
       "      <td>NaN</td>\n",
       "      <td>NaN</td>\n",
       "      <td>NaN</td>\n",
       "      <td>NaN</td>\n",
       "      <td>NaN</td>\n",
       "      <td>NaN</td>\n",
       "      <td>NaN</td>\n",
       "      <td>NaN</td>\n",
       "      <td>NaN</td>\n",
       "      <td>NaN</td>\n",
       "      <td>NaN</td>\n",
       "      <td>NaN</td>\n",
       "      <td>NaN</td>\n",
       "      <td>NaN</td>\n",
       "      <td>NaN</td>\n",
       "      <td>NaN</td>\n",
       "      <td>NaN</td>\n",
       "      <td>NaN</td>\n",
       "      <td>NaN</td>\n",
       "      <td>NaN</td>\n",
       "      <td>NaN</td>\n",
       "    </tr>\n",
       "  </tbody>\n",
       "</table>"
      ],
      "text/plain": [
       "<IPython.core.display.HTML object>"
      ]
     },
     "metadata": {},
     "output_type": "display_data"
    },
    {
     "data": {
      "text/markdown": [
       "__converted all to floats:__ "
      ],
      "text/plain": [
       "<IPython.core.display.Markdown object>"
      ]
     },
     "metadata": {},
     "output_type": "display_data"
    },
    {
     "data": {
      "text/html": [
       "<table border=\"1\" class=\"dataframe\">\n",
       "  <thead>\n",
       "    <tr style=\"text-align: right;\">\n",
       "      <th></th>\n",
       "      <th>0.5</th>\n",
       "      <th>1</th>\n",
       "      <th>1.5</th>\n",
       "      <th>2</th>\n",
       "      <th>2.5</th>\n",
       "      <th>3</th>\n",
       "      <th>3.5</th>\n",
       "      <th>4</th>\n",
       "      <th>4.5</th>\n",
       "      <th>5</th>\n",
       "      <th>5.5</th>\n",
       "      <th>6</th>\n",
       "      <th>6.5</th>\n",
       "      <th>7</th>\n",
       "      <th>7.5</th>\n",
       "      <th>8</th>\n",
       "      <th>8.5</th>\n",
       "      <th>9</th>\n",
       "      <th>9.5</th>\n",
       "      <th>10</th>\n",
       "      <th>10.5</th>\n",
       "      <th>11</th>\n",
       "      <th>11.5</th>\n",
       "      <th>12</th>\n",
       "      <th>12.5</th>\n",
       "      <th>13</th>\n",
       "      <th>13.5</th>\n",
       "      <th>14</th>\n",
       "      <th>14.5</th>\n",
       "      <th>15</th>\n",
       "      <th>15.5</th>\n",
       "      <th>16</th>\n",
       "      <th>16.5</th>\n",
       "      <th>17</th>\n",
       "      <th>17.5</th>\n",
       "      <th>18</th>\n",
       "      <th>18.5</th>\n",
       "      <th>19</th>\n",
       "      <th>19.5</th>\n",
       "      <th>20</th>\n",
       "      <th>20.5</th>\n",
       "      <th>21</th>\n",
       "      <th>21.5</th>\n",
       "      <th>22</th>\n",
       "      <th>22.5</th>\n",
       "      <th>23</th>\n",
       "      <th>23.5</th>\n",
       "      <th>24</th>\n",
       "      <th>24.5</th>\n",
       "      <th>25</th>\n",
       "      <th>25.5</th>\n",
       "      <th>26</th>\n",
       "      <th>26.5</th>\n",
       "      <th>27</th>\n",
       "      <th>27.5</th>\n",
       "      <th>28</th>\n",
       "      <th>28.5</th>\n",
       "      <th>29</th>\n",
       "      <th>29.5</th>\n",
       "      <th>30</th>\n",
       "      <th>30.5</th>\n",
       "      <th>31</th>\n",
       "      <th>31.5</th>\n",
       "      <th>32</th>\n",
       "      <th>32.5</th>\n",
       "      <th>33</th>\n",
       "      <th>33.5</th>\n",
       "      <th>34</th>\n",
       "      <th>34.5</th>\n",
       "      <th>35</th>\n",
       "      <th>35.5</th>\n",
       "      <th>36</th>\n",
       "      <th>36.5</th>\n",
       "      <th>37</th>\n",
       "      <th>37.5</th>\n",
       "      <th>38</th>\n",
       "      <th>38.5</th>\n",
       "      <th>39</th>\n",
       "      <th>39.5</th>\n",
       "      <th>40</th>\n",
       "    </tr>\n",
       "  </thead>\n",
       "  <tbody>\n",
       "    <tr>\n",
       "      <th>0</th>\n",
       "      <td>NaN</td>\n",
       "      <td>8.635354</td>\n",
       "      <td>8.70743</td>\n",
       "      <td>8.700727</td>\n",
       "      <td>8.664049</td>\n",
       "      <td>8.618702</td>\n",
       "      <td>8.572477</td>\n",
       "      <td>8.528372</td>\n",
       "      <td>8.487617</td>\n",
       "      <td>8.450611</td>\n",
       "      <td>8.417442</td>\n",
       "      <td>8.388098</td>\n",
       "      <td>8.362503</td>\n",
       "      <td>8.340549</td>\n",
       "      <td>8.322116</td>\n",
       "      <td>8.307105</td>\n",
       "      <td>8.295429</td>\n",
       "      <td>8.287013</td>\n",
       "      <td>8.281788</td>\n",
       "      <td>8.279691</td>\n",
       "      <td>8.280665</td>\n",
       "      <td>8.284653</td>\n",
       "      <td>8.291604</td>\n",
       "      <td>8.301467</td>\n",
       "      <td>8.314193</td>\n",
       "      <td>8.329735</td>\n",
       "      <td>8.348046</td>\n",
       "      <td>8.369082</td>\n",
       "      <td>8.392797</td>\n",
       "      <td>8.419147</td>\n",
       "      <td>8.448088</td>\n",
       "      <td>8.479578</td>\n",
       "      <td>8.513574</td>\n",
       "      <td>8.550034</td>\n",
       "      <td>8.588914</td>\n",
       "      <td>8.630173</td>\n",
       "      <td>8.67377</td>\n",
       "      <td>8.719662</td>\n",
       "      <td>8.767809</td>\n",
       "      <td>8.818169</td>\n",
       "      <td>8.8707</td>\n",
       "      <td>8.925363</td>\n",
       "      <td>8.982115</td>\n",
       "      <td>9.040916</td>\n",
       "      <td>9.101725</td>\n",
       "      <td>9.164502</td>\n",
       "      <td>9.229205</td>\n",
       "      <td>9.295793</td>\n",
       "      <td>9.364219</td>\n",
       "      <td>9.434411</td>\n",
       "      <td>NaN</td>\n",
       "      <td>NaN</td>\n",
       "      <td>NaN</td>\n",
       "      <td>NaN</td>\n",
       "      <td>NaN</td>\n",
       "      <td>NaN</td>\n",
       "      <td>NaN</td>\n",
       "      <td>NaN</td>\n",
       "      <td>NaN</td>\n",
       "      <td>NaN</td>\n",
       "      <td>NaN</td>\n",
       "      <td>NaN</td>\n",
       "      <td>NaN</td>\n",
       "      <td>NaN</td>\n",
       "      <td>NaN</td>\n",
       "      <td>NaN</td>\n",
       "      <td>NaN</td>\n",
       "      <td>NaN</td>\n",
       "      <td>NaN</td>\n",
       "      <td>NaN</td>\n",
       "      <td>NaN</td>\n",
       "      <td>NaN</td>\n",
       "      <td>NaN</td>\n",
       "      <td>NaN</td>\n",
       "      <td>NaN</td>\n",
       "      <td>NaN</td>\n",
       "      <td>NaN</td>\n",
       "      <td>NaN</td>\n",
       "      <td>NaN</td>\n",
       "      <td>NaN</td>\n",
       "    </tr>\n",
       "  </tbody>\n",
       "</table>"
      ],
      "text/plain": [
       "<IPython.core.display.HTML object>"
      ]
     },
     "metadata": {},
     "output_type": "display_data"
    },
    {
     "data": {
      "text/markdown": [
       "__applied np.log:__"
      ],
      "text/plain": [
       "<IPython.core.display.Markdown object>"
      ]
     },
     "metadata": {},
     "output_type": "display_data"
    },
    {
     "data": {
      "text/html": [
       "<table border=\"1\" class=\"dataframe\">\n",
       "  <thead>\n",
       "    <tr style=\"text-align: right;\">\n",
       "      <th></th>\n",
       "      <th>0.5</th>\n",
       "      <th>1</th>\n",
       "      <th>1.5</th>\n",
       "      <th>2</th>\n",
       "      <th>2.5</th>\n",
       "      <th>3</th>\n",
       "      <th>3.5</th>\n",
       "      <th>4</th>\n",
       "      <th>4.5</th>\n",
       "      <th>5</th>\n",
       "      <th>5.5</th>\n",
       "      <th>6</th>\n",
       "      <th>6.5</th>\n",
       "      <th>7</th>\n",
       "      <th>7.5</th>\n",
       "      <th>8</th>\n",
       "      <th>8.5</th>\n",
       "      <th>9</th>\n",
       "      <th>9.5</th>\n",
       "      <th>10</th>\n",
       "      <th>10.5</th>\n",
       "      <th>11</th>\n",
       "      <th>11.5</th>\n",
       "      <th>12</th>\n",
       "      <th>12.5</th>\n",
       "      <th>13</th>\n",
       "      <th>13.5</th>\n",
       "      <th>14</th>\n",
       "      <th>14.5</th>\n",
       "      <th>15</th>\n",
       "      <th>15.5</th>\n",
       "      <th>16</th>\n",
       "      <th>16.5</th>\n",
       "      <th>17</th>\n",
       "      <th>17.5</th>\n",
       "      <th>18</th>\n",
       "      <th>18.5</th>\n",
       "      <th>19</th>\n",
       "      <th>19.5</th>\n",
       "      <th>20</th>\n",
       "      <th>20.5</th>\n",
       "      <th>21</th>\n",
       "      <th>21.5</th>\n",
       "      <th>22</th>\n",
       "      <th>22.5</th>\n",
       "      <th>23</th>\n",
       "      <th>23.5</th>\n",
       "      <th>24</th>\n",
       "      <th>24.5</th>\n",
       "      <th>25</th>\n",
       "      <th>25.5</th>\n",
       "      <th>26</th>\n",
       "      <th>26.5</th>\n",
       "      <th>27</th>\n",
       "      <th>27.5</th>\n",
       "      <th>28</th>\n",
       "      <th>28.5</th>\n",
       "      <th>29</th>\n",
       "      <th>29.5</th>\n",
       "      <th>30</th>\n",
       "      <th>30.5</th>\n",
       "      <th>31</th>\n",
       "      <th>31.5</th>\n",
       "      <th>32</th>\n",
       "      <th>32.5</th>\n",
       "      <th>33</th>\n",
       "      <th>33.5</th>\n",
       "      <th>34</th>\n",
       "      <th>34.5</th>\n",
       "      <th>35</th>\n",
       "      <th>35.5</th>\n",
       "      <th>36</th>\n",
       "      <th>36.5</th>\n",
       "      <th>37</th>\n",
       "      <th>37.5</th>\n",
       "      <th>38</th>\n",
       "      <th>38.5</th>\n",
       "      <th>39</th>\n",
       "      <th>39.5</th>\n",
       "      <th>40</th>\n",
       "    </tr>\n",
       "  </thead>\n",
       "  <tbody>\n",
       "    <tr>\n",
       "      <th>0</th>\n",
       "      <td>NaN</td>\n",
       "      <td>2.155865</td>\n",
       "      <td>2.164177</td>\n",
       "      <td>2.163407</td>\n",
       "      <td>2.159182</td>\n",
       "      <td>2.153934</td>\n",
       "      <td>2.148557</td>\n",
       "      <td>2.143398</td>\n",
       "      <td>2.138608</td>\n",
       "      <td>2.134239</td>\n",
       "      <td>2.130306</td>\n",
       "      <td>2.126814</td>\n",
       "      <td>2.123758</td>\n",
       "      <td>2.121129</td>\n",
       "      <td>2.118917</td>\n",
       "      <td>2.117111</td>\n",
       "      <td>2.115705</td>\n",
       "      <td>2.11469</td>\n",
       "      <td>2.114059</td>\n",
       "      <td>2.113806</td>\n",
       "      <td>2.113923</td>\n",
       "      <td>2.114405</td>\n",
       "      <td>2.115243</td>\n",
       "      <td>2.116432</td>\n",
       "      <td>2.117964</td>\n",
       "      <td>2.119832</td>\n",
       "      <td>2.122028</td>\n",
       "      <td>2.124544</td>\n",
       "      <td>2.127374</td>\n",
       "      <td>2.130508</td>\n",
       "      <td>2.13394</td>\n",
       "      <td>2.137661</td>\n",
       "      <td>2.141662</td>\n",
       "      <td>2.145935</td>\n",
       "      <td>2.150472</td>\n",
       "      <td>2.155265</td>\n",
       "      <td>2.160303</td>\n",
       "      <td>2.16558</td>\n",
       "      <td>2.171087</td>\n",
       "      <td>2.176814</td>\n",
       "      <td>2.182754</td>\n",
       "      <td>2.188897</td>\n",
       "      <td>2.195235</td>\n",
       "      <td>2.201761</td>\n",
       "      <td>2.208464</td>\n",
       "      <td>2.215338</td>\n",
       "      <td>2.222373</td>\n",
       "      <td>2.229562</td>\n",
       "      <td>2.236896</td>\n",
       "      <td>2.244364</td>\n",
       "      <td>NaN</td>\n",
       "      <td>NaN</td>\n",
       "      <td>NaN</td>\n",
       "      <td>NaN</td>\n",
       "      <td>NaN</td>\n",
       "      <td>NaN</td>\n",
       "      <td>NaN</td>\n",
       "      <td>NaN</td>\n",
       "      <td>NaN</td>\n",
       "      <td>NaN</td>\n",
       "      <td>NaN</td>\n",
       "      <td>NaN</td>\n",
       "      <td>NaN</td>\n",
       "      <td>NaN</td>\n",
       "      <td>NaN</td>\n",
       "      <td>NaN</td>\n",
       "      <td>NaN</td>\n",
       "      <td>NaN</td>\n",
       "      <td>NaN</td>\n",
       "      <td>NaN</td>\n",
       "      <td>NaN</td>\n",
       "      <td>NaN</td>\n",
       "      <td>NaN</td>\n",
       "      <td>NaN</td>\n",
       "      <td>NaN</td>\n",
       "      <td>NaN</td>\n",
       "      <td>NaN</td>\n",
       "      <td>NaN</td>\n",
       "      <td>NaN</td>\n",
       "      <td>NaN</td>\n",
       "    </tr>\n",
       "  </tbody>\n",
       "</table>"
      ],
      "text/plain": [
       "<IPython.core.display.HTML object>"
      ]
     },
     "metadata": {},
     "output_type": "display_data"
    }
   ],
   "source": [
    "a=df.iloc[0, 1:].to_frame().T\n",
    "b=df.iloc[0, 1:].astype(float).to_frame().T\n",
    "c=df.iloc[0, 1:].astype(float).apply(np.log).to_frame().T\n",
    "display(Markdown(\"__first row no adjustments:__\"))\n",
    "display(HTML(a.to_html()))\n",
    "display(Markdown(\"__converted all to floats:__ \"))\n",
    "display(HTML(b.to_html()))\n",
    "display(Markdown(\"__applied np.log:__\"))\n",
    "display(HTML(c.to_html()))\n",
    "\n",
    "\n"
   ]
  },
  {
   "cell_type": "markdown",
   "id": "344cab41",
   "metadata": {},
   "source": [
    "### Applying Natural Log to the Whole DataFrame\n",
    "\n",
    "\n",
    "\n",
    "\n"
   ]
  },
  {
   "cell_type": "code",
   "execution_count": 29,
   "id": "9df9c805",
   "metadata": {},
   "outputs": [
    {
     "data": {
      "text/markdown": [
       "The sum of all the individual 'logged' values"
      ],
      "text/plain": [
       "<IPython.core.display.Markdown object>"
      ]
     },
     "metadata": {},
     "output_type": "display_data"
    },
    {
     "data": {
      "text/plain": [
       "np.float64(51133.746445601464)"
      ]
     },
     "execution_count": 29,
     "metadata": {},
     "output_type": "execute_result"
    }
   ],
   "source": [
    "df_logged = df.iloc[:, 1:].astype(float).apply(np.log) \n",
    "\n",
    "df_logged\n",
    "display(Markdown(\"The sum of all the individual 'logged' values\"))\n",
    "df_logged.sum().sum()"
   ]
  },
  {
   "cell_type": "markdown",
   "id": "142e58af",
   "metadata": {},
   "source": [
    "### Checking the Log Calculation\n",
    "given that:\n",
    "$\n",
    "\\sum_i \\log(x_i) = \\log\\left( \\prod_i x_i \\right)\n",
    "$\n",
    "we can perform a check on the log calculation.\n",
    "however the product approach doesn't work\n",
    "since there are so many values we get overflow\n",
    "for the product side of the equation we can instead chunk up the calculation\n",
    "to make it more manageable\n",
    "we therefore calculate the product for each row\n",
    "then take the log\n",
    "the sum the log of products for each row\n",
    "#### The Product of All Entries\n",
    "\n",
    "\n"
   ]
  },
  {
   "cell_type": "code",
   "execution_count": 30,
   "id": "f962de1e",
   "metadata": {},
   "outputs": [
    {
     "data": {
      "text/markdown": [
       "the product of each row"
      ],
      "text/plain": [
       "<IPython.core.display.Markdown object>"
      ]
     },
     "metadata": {},
     "output_type": "display_data"
    },
    {
     "name": "stdout",
     "output_type": "stream",
     "text": [
      "0      6.097911e+45\n",
      "1      1.220385e+45\n",
      "2      4.668193e+44\n",
      "3      8.629185e+45\n",
      "4      4.803156e+45\n",
      "           ...     \n",
      "655    3.951460e+50\n",
      "656    8.433770e+50\n",
      "657    2.465667e+53\n",
      "658    2.347661e+52\n",
      "659    6.731017e+54\n",
      "Length: 660, dtype: float64\n"
     ]
    },
    {
     "data": {
      "text/markdown": [
       "the log of each row product"
      ],
      "text/plain": [
       "<IPython.core.display.Markdown object>"
      ]
     },
     "metadata": {},
     "output_type": "display_data"
    },
    {
     "name": "stdout",
     "output_type": "stream",
     "text": [
      "0      105.424275\n",
      "1      103.815495\n",
      "2      102.854516\n",
      "3      105.771479\n",
      "4      105.185602\n",
      "          ...    \n",
      "655    116.503340\n",
      "656    117.261498\n",
      "657    122.939472\n",
      "658    120.587844\n",
      "659    126.246321\n",
      "Length: 660, dtype: float64\n"
     ]
    },
    {
     "data": {
      "text/markdown": [
       "the sum of log of row products"
      ],
      "text/plain": [
       "<IPython.core.display.Markdown object>"
      ]
     },
     "metadata": {},
     "output_type": "display_data"
    },
    {
     "name": "stdout",
     "output_type": "stream",
     "text": [
      "51053.785440947686\n"
     ]
    },
    {
     "data": {
      "text/html": [
       "<div>\n",
       "<style scoped>\n",
       "    .dataframe tbody tr th:only-of-type {\n",
       "        vertical-align: middle;\n",
       "    }\n",
       "\n",
       "    .dataframe tbody tr th {\n",
       "        vertical-align: top;\n",
       "    }\n",
       "\n",
       "    .dataframe thead th {\n",
       "        text-align: right;\n",
       "    }\n",
       "</style>\n",
       "<table border=\"1\" class=\"dataframe\">\n",
       "  <thead>\n",
       "    <tr style=\"text-align: right;\">\n",
       "      <th></th>\n",
       "      <th>the product of each row</th>\n",
       "      <th>the log of each row product</th>\n",
       "      <th>the sum of log of row products</th>\n",
       "    </tr>\n",
       "  </thead>\n",
       "  <tbody>\n",
       "    <tr>\n",
       "      <th>0</th>\n",
       "      <td>6.097911e+45</td>\n",
       "      <td>105.424275</td>\n",
       "      <td>51053.785441</td>\n",
       "    </tr>\n",
       "    <tr>\n",
       "      <th>1</th>\n",
       "      <td>1.220385e+45</td>\n",
       "      <td>103.815495</td>\n",
       "      <td>51053.785441</td>\n",
       "    </tr>\n",
       "    <tr>\n",
       "      <th>2</th>\n",
       "      <td>4.668193e+44</td>\n",
       "      <td>102.854516</td>\n",
       "      <td>51053.785441</td>\n",
       "    </tr>\n",
       "    <tr>\n",
       "      <th>3</th>\n",
       "      <td>8.629185e+45</td>\n",
       "      <td>105.771479</td>\n",
       "      <td>51053.785441</td>\n",
       "    </tr>\n",
       "    <tr>\n",
       "      <th>4</th>\n",
       "      <td>4.803156e+45</td>\n",
       "      <td>105.185602</td>\n",
       "      <td>51053.785441</td>\n",
       "    </tr>\n",
       "    <tr>\n",
       "      <th>...</th>\n",
       "      <td>...</td>\n",
       "      <td>...</td>\n",
       "      <td>...</td>\n",
       "    </tr>\n",
       "    <tr>\n",
       "      <th>655</th>\n",
       "      <td>3.951460e+50</td>\n",
       "      <td>116.503340</td>\n",
       "      <td>51053.785441</td>\n",
       "    </tr>\n",
       "    <tr>\n",
       "      <th>656</th>\n",
       "      <td>8.433770e+50</td>\n",
       "      <td>117.261498</td>\n",
       "      <td>51053.785441</td>\n",
       "    </tr>\n",
       "    <tr>\n",
       "      <th>657</th>\n",
       "      <td>2.465667e+53</td>\n",
       "      <td>122.939472</td>\n",
       "      <td>51053.785441</td>\n",
       "    </tr>\n",
       "    <tr>\n",
       "      <th>658</th>\n",
       "      <td>2.347661e+52</td>\n",
       "      <td>120.587844</td>\n",
       "      <td>51053.785441</td>\n",
       "    </tr>\n",
       "    <tr>\n",
       "      <th>659</th>\n",
       "      <td>6.731017e+54</td>\n",
       "      <td>126.246321</td>\n",
       "      <td>51053.785441</td>\n",
       "    </tr>\n",
       "  </tbody>\n",
       "</table>\n",
       "<p>660 rows × 3 columns</p>\n",
       "</div>"
      ],
      "text/plain": [
       "     the product of each row  the log of each row product  \\\n",
       "0               6.097911e+45                   105.424275   \n",
       "1               1.220385e+45                   103.815495   \n",
       "2               4.668193e+44                   102.854516   \n",
       "3               8.629185e+45                   105.771479   \n",
       "4               4.803156e+45                   105.185602   \n",
       "..                       ...                          ...   \n",
       "655             3.951460e+50                   116.503340   \n",
       "656             8.433770e+50                   117.261498   \n",
       "657             2.465667e+53                   122.939472   \n",
       "658             2.347661e+52                   120.587844   \n",
       "659             6.731017e+54                   126.246321   \n",
       "\n",
       "     the sum of log of row products  \n",
       "0                      51053.785441  \n",
       "1                      51053.785441  \n",
       "2                      51053.785441  \n",
       "3                      51053.785441  \n",
       "4                      51053.785441  \n",
       "..                              ...  \n",
       "655                    51053.785441  \n",
       "656                    51053.785441  \n",
       "657                    51053.785441  \n",
       "658                    51053.785441  \n",
       "659                    51053.785441  \n",
       "\n",
       "[660 rows x 3 columns]"
      ]
     },
     "execution_count": 30,
     "metadata": {},
     "output_type": "execute_result"
    }
   ],
   "source": [
    "display(Markdown(\"the product of each row\"))\n",
    "print(df.iloc[:,1:].product(axis=1))\n",
    "display(Markdown(\"the log of each row product\"))\n",
    "print(df.iloc[:,1:].product(axis=1).apply(np.log))\n",
    "display(Markdown(\"the sum of log of row products\"))\n",
    "print(df.iloc[:,1:].product(axis=1).apply(np.log).sum())\n",
    "\n",
    "\n",
    "logcheck=pd.DataFrame({\"the product of each row\":df.iloc[:,1:].product(axis=1),\"the log of each row product\":df.iloc[:,1:].product(axis=1).apply(np.log),\"the sum of log of row products\":df.iloc[:,1:].product(axis=1).apply(np.log).sum()})\n",
    "\n",
    "\n",
    "logcheck\n",
    "\n",
    "\n",
    "\n",
    "\n",
    "\n",
    "\n",
    "\n",
    "\n",
    "\n",
    "\n",
    "\n",
    "\n",
    "\n"
   ]
  },
  {
   "cell_type": "markdown",
   "id": "f9042da4",
   "metadata": {
    "lines_to_next_cell": 0
   },
   "source": [
    "         \n",
    "         \n",
    "         \n",
    "         \n",
    "         \n",
    "         \n",
    "         \n",
    "         \n",
    "         \n",
    "         \n",
    "         \n",
    "         \n",
    "         \n",
    "         \n",
    "         \n",
    "         \n",
    "         \n",
    "         \n",
    "         \n",
    "         \n",
    "         \n",
    "\n",
    "\n",
    "\n",
    "\n",
    "\n",
    "\n"
   ]
  },
  {
   "cell_type": "markdown",
   "id": "5f91cd8d-b3c6-487b-a64e-062493267579",
   "metadata": {},
   "source": [
    "## Looking at Dataframes in Spreadsheet"
   ]
  },
  {
   "cell_type": "markdown",
   "id": "2bed0b50-8a8d-4278-9fb5-948b66326a06",
   "metadata": {},
   "source": [
    "import os\n",
    "\n",
    "with pd.ExcelWriter(\"output.xlsx\", engine=\"openpyxl\") as writer:\n",
    "    df1.to_excel(writer, sheet_name=\"df1\", index=False)\n",
    "    df2.to_excel(writer, sheet_name=\"df2\", index=False)\n",
    "    df.to_excel(writer, sheet_name=\"df\", index=False)\n",
    "    df_numeric.to_excel(writer, sheet_name=\"df_numeric\", index=False)\n",
    "    df_converted.to_excel(writer, sheet_name=\"df_converted\", index=False)\n",
    "    mask_problem.to_excel(writer, sheet_name=\"mask_problem\", index=False)\n",
    "    filtered.to_excel(writer, sheet_name=\"filtered\", index=False)\n",
    "    col_names.to_excel(writer, sheet_name=\"col_names\", index=False)\n",
    "    col_names2.to_excel(writer, sheet_name=\"col_names2\", index=False)\n",
    "os.system(\"libreoffice --calc output.xlsx & disown\")\n"
   ]
  },
  {
   "cell_type": "markdown",
   "id": "d87ddbc1-d1ca-4b52-ba71-a6af3b7b9aa1",
   "metadata": {},
   "source": [
    "## Unsorted"
   ]
  },
  {
   "cell_type": "code",
   "execution_count": 31,
   "id": "18d96fed-f939-4051-87ce-3053e8cd043e",
   "metadata": {
    "lines_to_next_cell": 2
   },
   "outputs": [
    {
     "name": "stdout",
     "output_type": "stream",
     "text": [
      "Min: 8.048354459961853\n",
      "Any <= 0: False\n"
     ]
    },
    {
     "name": "stderr",
     "output_type": "stream",
     "text": [
      "/tmp/nix-shell-2032-0/ipykernel_3640/515693852.py:3: RuntimeWarning: invalid value encountered in less_equal\n",
      "  print(\"Any <= 0:\", np.any(row <= 0))  # Will trigger log error\n"
     ]
    }
   ],
   "source": [
    "row = df.iloc[1, 1:].to_numpy()\n",
    "print(\"Min:\", np.nanmin(row))     # Ignores NaN\n",
    "print(\"Any <= 0:\", np.any(row <= 0))  # Will trigger log error"
   ]
  },
  {
   "cell_type": "markdown",
   "id": "106c408f-a80a-4e9f-a5fc-b3f20535bcf5",
   "metadata": {},
   "source": [
    "## a check on the log calculation\n",
    "∑log(x \n",
    "i\n",
    "​\n",
    " )=log(∏x \n",
    "i\n",
    "​\n",
    " )"
   ]
  },
  {
   "cell_type": "code",
   "execution_count": 32,
   "id": "ce0dc267-c312-49c2-81da-ec6ac725af08",
   "metadata": {
    "lines_to_next_cell": 2
   },
   "outputs": [
    {
     "name": "stdout",
     "output_type": "stream",
     "text": [
      "[]\n"
     ]
    }
   ],
   "source": [
    "row = df.iloc[1, 1:]\n",
    "bad_values = [v for v in row if not isinstance(v, (float, np.float64))]\n",
    "print(bad_values)"
   ]
  },
  {
   "cell_type": "markdown",
   "id": "120fd02d-7d10-49f0-bbcd-acd123f2a2ed",
   "metadata": {},
   "source": [
    "#### for i, val in enumerate(row):\n",
    "    try:\n",
    "        np.log(val)\n",
    "    except Exception as e:\n",
    "        print(f\"Column {row.index[i]}: value={val!r} -> {type(val)} caused error: {e}\")\n"
   ]
  },
  {
   "cell_type": "code",
   "execution_count": 33,
   "id": "ad91eb76-6862-4c6a-b7ef-b38a2edf888d",
   "metadata": {
    "lines_to_next_cell": 2
   },
   "outputs": [
    {
     "ename": "TypeError",
     "evalue": "loop of ufunc does not support argument 0 of type numpy.float64 which has no callable log method",
     "output_type": "error",
     "traceback": [
      "\u001b[31m---------------------------------------------------------------------------\u001b[39m",
      "\u001b[31mAttributeError\u001b[39m                            Traceback (most recent call last)",
      "\u001b[31mAttributeError\u001b[39m: 'numpy.float64' object has no attribute 'log'",
      "\nThe above exception was the direct cause of the following exception:\n",
      "\u001b[31mTypeError\u001b[39m                                 Traceback (most recent call last)",
      "\u001b[36mCell\u001b[39m\u001b[36m \u001b[39m\u001b[32mIn[33]\u001b[39m\u001b[32m, line 1\u001b[39m\n\u001b[32m----> \u001b[39m\u001b[32m1\u001b[39m \u001b[43mnp\u001b[49m\u001b[43m.\u001b[49m\u001b[43mlog\u001b[49m\u001b[43m(\u001b[49m\u001b[43mdf\u001b[49m\u001b[43m.\u001b[49m\u001b[43miloc\u001b[49m\u001b[43m[\u001b[49m\u001b[32;43m1\u001b[39;49m\u001b[43m,\u001b[49m\u001b[43m \u001b[49m\u001b[32;43m1\u001b[39;49m\u001b[43m:\u001b[49m\u001b[43m]\u001b[49m\u001b[43m.\u001b[49m\u001b[43mreset_index\u001b[49m\u001b[43m(\u001b[49m\u001b[43mdrop\u001b[49m\u001b[43m=\u001b[49m\u001b[38;5;28;43;01mTrue\u001b[39;49;00m\u001b[43m)\u001b[49m\u001b[43m)\u001b[49m\n",
      "\u001b[36mFile \u001b[39m\u001b[32m/nix/store/5d20j80l1n88krwznchxw3a08i3l5ign-python3-3.12.10-env/lib/python3.12/site-packages/pandas/core/generic.py:2171\u001b[39m, in \u001b[36mNDFrame.__array_ufunc__\u001b[39m\u001b[34m(self, ufunc, method, *inputs, **kwargs)\u001b[39m\n\u001b[32m   2167\u001b[39m \u001b[38;5;129m@final\u001b[39m\n\u001b[32m   2168\u001b[39m \u001b[38;5;28;01mdef\u001b[39;00m\u001b[38;5;250m \u001b[39m\u001b[34m__array_ufunc__\u001b[39m(\n\u001b[32m   2169\u001b[39m     \u001b[38;5;28mself\u001b[39m, ufunc: np.ufunc, method: \u001b[38;5;28mstr\u001b[39m, *inputs: Any, **kwargs: Any\n\u001b[32m   2170\u001b[39m ):\n\u001b[32m-> \u001b[39m\u001b[32m2171\u001b[39m     \u001b[38;5;28;01mreturn\u001b[39;00m \u001b[43marraylike\u001b[49m\u001b[43m.\u001b[49m\u001b[43marray_ufunc\u001b[49m\u001b[43m(\u001b[49m\u001b[38;5;28;43mself\u001b[39;49m\u001b[43m,\u001b[49m\u001b[43m \u001b[49m\u001b[43mufunc\u001b[49m\u001b[43m,\u001b[49m\u001b[43m \u001b[49m\u001b[43mmethod\u001b[49m\u001b[43m,\u001b[49m\u001b[43m \u001b[49m\u001b[43m*\u001b[49m\u001b[43minputs\u001b[49m\u001b[43m,\u001b[49m\u001b[43m \u001b[49m\u001b[43m*\u001b[49m\u001b[43m*\u001b[49m\u001b[43mkwargs\u001b[49m\u001b[43m)\u001b[49m\n",
      "\u001b[36mFile \u001b[39m\u001b[32m/nix/store/5d20j80l1n88krwznchxw3a08i3l5ign-python3-3.12.10-env/lib/python3.12/site-packages/pandas/core/arraylike.py:399\u001b[39m, in \u001b[36marray_ufunc\u001b[39m\u001b[34m(self, ufunc, method, *inputs, **kwargs)\u001b[39m\n\u001b[32m    396\u001b[39m \u001b[38;5;28;01melif\u001b[39;00m \u001b[38;5;28mself\u001b[39m.ndim == \u001b[32m1\u001b[39m:\n\u001b[32m    397\u001b[39m     \u001b[38;5;66;03m# ufunc(series, ...)\u001b[39;00m\n\u001b[32m    398\u001b[39m     inputs = \u001b[38;5;28mtuple\u001b[39m(extract_array(x, extract_numpy=\u001b[38;5;28;01mTrue\u001b[39;00m) \u001b[38;5;28;01mfor\u001b[39;00m x \u001b[38;5;129;01min\u001b[39;00m inputs)\n\u001b[32m--> \u001b[39m\u001b[32m399\u001b[39m     result = \u001b[38;5;28;43mgetattr\u001b[39;49m\u001b[43m(\u001b[49m\u001b[43mufunc\u001b[49m\u001b[43m,\u001b[49m\u001b[43m \u001b[49m\u001b[43mmethod\u001b[49m\u001b[43m)\u001b[49m\u001b[43m(\u001b[49m\u001b[43m*\u001b[49m\u001b[43minputs\u001b[49m\u001b[43m,\u001b[49m\u001b[43m \u001b[49m\u001b[43m*\u001b[49m\u001b[43m*\u001b[49m\u001b[43mkwargs\u001b[49m\u001b[43m)\u001b[49m\n\u001b[32m    400\u001b[39m \u001b[38;5;28;01melse\u001b[39;00m:\n\u001b[32m    401\u001b[39m     \u001b[38;5;66;03m# ufunc(dataframe)\u001b[39;00m\n\u001b[32m    402\u001b[39m     \u001b[38;5;28;01mif\u001b[39;00m method == \u001b[33m\"\u001b[39m\u001b[33m__call__\u001b[39m\u001b[33m\"\u001b[39m \u001b[38;5;129;01mand\u001b[39;00m \u001b[38;5;129;01mnot\u001b[39;00m kwargs:\n\u001b[32m    403\u001b[39m         \u001b[38;5;66;03m# for np.<ufunc>(..) calls\u001b[39;00m\n\u001b[32m    404\u001b[39m         \u001b[38;5;66;03m# kwargs cannot necessarily be handled block-by-block, so only\u001b[39;00m\n\u001b[32m    405\u001b[39m         \u001b[38;5;66;03m# take this path if there are no kwargs\u001b[39;00m\n",
      "\u001b[31mTypeError\u001b[39m: loop of ufunc does not support argument 0 of type numpy.float64 which has no callable log method"
     ]
    }
   ],
   "source": [
    "np.log(df.iloc[1, 1:].reset_index(drop=True))"
   ]
  },
  {
   "cell_type": "code",
   "execution_count": null,
   "id": "a5f49e9c",
   "metadata": {
    "lines_to_next_cell": 2
   },
   "outputs": [],
   "source": [
    "np.log(pd.to_numeric(df.iloc[1, 1:], errors='coerce').values)"
   ]
  },
  {
   "cell_type": "code",
   "execution_count": null,
   "id": "7865dae7-f222-42ad-87d4-ffc332c93e4b",
   "metadata": {
    "lines_to_next_cell": 2
   },
   "outputs": [],
   "source": [
    "np.log(pd.to_numeric(df.iloc[:, 1:].stack(), errors='coerce').unstack())"
   ]
  },
  {
   "cell_type": "markdown",
   "id": "9ed6bbaf-99c2-4128-b37a-ea855e6c63de",
   "metadata": {},
   "source": [
    "pd.to_numeric(..., errors='coerce') converts anything non-numeric to NaN\n",
    "\n",
    ".values or .unstack() strips weird index metadata\n",
    "\n",
    "np.log(...) then applies safely"
   ]
  },
  {
   "cell_type": "code",
   "execution_count": null,
   "id": "af1d56d3-ed2e-4328-8aaa-79565e12c777",
   "metadata": {},
   "outputs": [],
   "source": [
    "df.head()"
   ]
  },
  {
   "cell_type": "code",
   "execution_count": null,
   "id": "7451830c-115b-4dae-aa27-a91da4fd9b55",
   "metadata": {},
   "outputs": [],
   "source": []
  }
 ],
 "metadata": {
  "jupytext": {
   "formats": "ipynb,py:percent,md"
  },
  "kernelspec": {
   "display_name": "Python 3 (ipykernel)",
   "language": "python",
   "name": "python3"
  },
  "language_info": {
   "codemirror_mode": {
    "name": "ipython",
    "version": 3
   },
   "file_extension": ".py",
   "mimetype": "text/x-python",
   "name": "python",
   "nbconvert_exporter": "python",
   "pygments_lexer": "ipython3",
   "version": "3.12.10"
  }
 },
 "nbformat": 4,
 "nbformat_minor": 5
}
