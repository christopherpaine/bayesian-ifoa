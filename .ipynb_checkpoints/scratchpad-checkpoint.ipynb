{
 "cells": [
  {
   "cell_type": "markdown",
   "id": "96d34c17-0a1d-44f7-baff-b7e016aacfbe",
   "metadata": {},
   "source": [
    "# Getting Raw Data into Dataframes\n"
   ]
  },
  {
   "cell_type": "code",
   "execution_count": 8,
   "id": "affa3aab-495d-4dc6-aa5d-4856527174ab",
   "metadata": {},
   "outputs": [],
   "source": [
    "from IPython.display import display, Markdown"
   ]
  },
  {
   "cell_type": "code",
   "execution_count": 2,
   "id": "71e1ae0a-efdf-4d40-a09f-667ef726aaa6",
   "metadata": {},
   "outputs": [],
   "source": [
    "import pandas as pd\n",
    "\n",
    "#load in first spreadsheet to df1\n",
    "df1 = pd.read_excel(\"GLC Nominal month end data_1970 to 2015.xlsx\",sheet_name=\"4. spot curve\",engine=\"openpyxl\",skiprows=5,header=None)\n",
    "#create an appropriate set of headers\n",
    "col_names=pd.read_excel(\"GLC Nominal month end data_1970 to 2015.xlsx\",sheet_name=\"4. spot curve\",engine=\"openpyxl\",skiprows=3,nrows=1,header=None)\n",
    "df1.columns = col_names.iloc[0] \n",
    "col_names[0]=\"Date\"\n",
    "#load in second spreadsheet to df2\n",
    "df2 = pd.read_excel(\"GLC Nominal month end data_2016 to present.xlsx\",sheet_name=\"4. spot curve\",engine=\"openpyxl\",skiprows=5,header=None)"
   ]
  },
  {
   "cell_type": "code",
   "execution_count": 37,
   "id": "3df351e1-1722-4a86-b6e2-1b7e5b7904a8",
   "metadata": {},
   "outputs": [
    {
     "name": "stdout",
     "output_type": "stream",
     "text": [
      "The length of combined dataframe is 660 rows\n"
     ]
    }
   ],
   "source": [
    "#join the two dataframes to create df\n",
    "df = pd.concat([df1, df2], ignore_index=True)\n",
    "print(\"The length of combined dataframe is \"+str(len(df))+\" rows\")"
   ]
  },
  {
   "cell_type": "code",
   "execution_count": 42,
   "id": "397ebfa8-7d6a-4f89-bcae-737620f02911",
   "metadata": {},
   "outputs": [
    {
     "data": {
      "text/markdown": [
       "**Checking Dataframe 1 -  1970 to 2015**"
      ],
      "text/plain": [
       "<IPython.core.display.Markdown object>"
      ]
     },
     "metadata": {},
     "output_type": "display_data"
    },
    {
     "name": "stdout",
     "output_type": "stream",
     "text": [
      "the first dates is 1970-01-31 and the last is 2015-12-31\n",
      "one would therefore expect 12 x 46yrs = 552 entries\n",
      "and indeed we see the number of rows in df is 552\n"
     ]
    },
    {
     "data": {
      "text/markdown": [
       "**Checking Dataframe 2 -  2015 to present**"
      ],
      "text/plain": [
       "<IPython.core.display.Markdown object>"
      ]
     },
     "metadata": {},
     "output_type": "display_data"
    },
    {
     "name": "stdout",
     "output_type": "stream",
     "text": [
      "the first dates is 2016-01-31 and the last is 2024-12-31\n",
      "one would therefore expect 12 x 9yrs = 108 entries\n",
      "and indeed we see the number of rows in df is 108\n"
     ]
    }
   ],
   "source": [
    "#producing some sense checks\n",
    "display(Markdown(\"**Checking Dataframe 1 -  1970 to 2015**\")) \n",
    "print(\"the first dates is \"+ str(df.iloc[0,0].strftime('%Y-%m-%d'))+\" and the last is \" +str(df.iloc[551,0].strftime('%Y-%m-%d') ))\n",
    "print(\"one would therefore expect 12 x 46yrs = 552 entries\")\n",
    "print(\"and indeed we see the number of rows in df is \"+str(len(df1)))\n",
    "\n",
    "display(Markdown(\"**Checking Dataframe 2 -  2015 to present**\")) \n",
    "print(\"the first dates is \"+ str(df.loc[552,0].strftime('%Y-%m-%d'))+\" and the last is \" +str(df.loc[659,0].strftime('%Y-%m-%d') ))\n",
    "print(\"one would therefore expect 12 x 9yrs = 108 entries\")\n",
    "print(\"and indeed we see the number of rows in df is \"+str(len(df2)))"
   ]
  },
  {
   "cell_type": "markdown",
   "id": "b87e47b9-6475-46af-9eb8-7ddcfb988bf9",
   "metadata": {},
   "source": [
    "## Investigations"
   ]
  },
  {
   "cell_type": "code",
   "execution_count": null,
   "id": "b123635b-fdde-4f86-9a41-51b605fe0b95",
   "metadata": {},
   "outputs": [],
   "source": []
  }
 ],
 "metadata": {
  "kernelspec": {
   "display_name": "Python 3 (ipykernel)",
   "language": "python",
   "name": "python3"
  },
  "language_info": {
   "codemirror_mode": {
    "name": "ipython",
    "version": 3
   },
   "file_extension": ".py",
   "mimetype": "text/x-python",
   "name": "python",
   "nbconvert_exporter": "python",
   "pygments_lexer": "ipython3",
   "version": "3.12.8"
  }
 },
 "nbformat": 4,
 "nbformat_minor": 5
}
