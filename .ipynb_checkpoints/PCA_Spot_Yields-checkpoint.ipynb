{
 "cells": [
  {
   "cell_type": "markdown",
   "id": "2ad448d3",
   "metadata": {},
   "source": [
    "# PCA Analysis on Spot Yields\n",
    "\n",
    "This notebook performs **Principal Component Analysis (PCA)** on spot yield data, \n",
    "applying the following steps:\n",
    "\n",
    "1. Generate or load spot yield data.\n",
    "2. Compute **12-month proportionate change** in yields.\n",
    "3. Apply **log transformation** to stabilize variance.\n",
    "4. Standardize the data for PCA.\n",
    "5. Perform **PCA** to extract principal components.\n",
    "6. Analyze eigenvectors and explained variance.\n"
   ]
  },
  {
   "cell_type": "code",
   "execution_count": null,
   "id": "0f85c1ca",
   "metadata": {},
   "outputs": [],
   "source": [
    "import numpy as np\n",
    "import pandas as pd\n",
    "import matplotlib.pyplot as plt\n",
    "from sklearn.decomposition import PCA\n",
    "from sklearn.preprocessing import StandardScaler\n",
    "\n",
    "# Set seed for reproducibility\n",
    "np.random.seed(42)\n"
   ]
  },
  {
   "cell_type": "code",
   "execution_count": null,
   "id": "42fde0f0",
   "metadata": {},
   "outputs": [],
   "source": [
    "# Generate synthetic spot yield data (500 days, 5 maturities)\n",
    "n_days = 500\n",
    "maturities = [\"1Y\", \"2Y\", \"5Y\", \"10Y\", \"30Y\"]\n",
    "\n",
    "# Simulate yield movements (base yield + random walk component)\n",
    "base_yield_curve = np.array([2.0, 2.5, 3.0, 3.5, 4.0])  # Base rates for maturities\n",
    "random_changes = np.cumsum(np.random.normal(scale=0.02, size=(n_days, len(maturities))), axis=0)\n",
    "spot_yields = base_yield_curve + random_changes\n",
    "\n",
    "# Convert to DataFrame\n",
    "spot_yield_df = pd.DataFrame(spot_yields, columns=maturities)\n",
    "spot_yield_df.head()\n"
   ]
  },
  {
   "cell_type": "code",
   "execution_count": null,
   "id": "330527d5",
   "metadata": {},
   "outputs": [],
   "source": [
    "# Compute 12-month proportionate change in yield\n",
    "prop_change = spot_yield_df.pct_change(periods=12)\n",
    "\n",
    "# Apply log transformation (adding 1 to handle zero/negative values safely)\n",
    "log_transformed = np.log1p(prop_change)\n",
    "\n",
    "# Drop NaN values (caused by initial differencing)\n",
    "log_transformed = log_transformed.dropna()\n",
    "\n",
    "# Display transformed data\n",
    "log_transformed.head()\n"
   ]
  },
  {
   "cell_type": "code",
   "execution_count": null,
   "id": "7210c6de",
   "metadata": {},
   "outputs": [],
   "source": [
    "# Standardize data (PCA is sensitive to scale)\n",
    "scaler = StandardScaler()\n",
    "log_transformed_scaled = scaler.fit_transform(log_transformed)\n",
    "\n",
    "# Perform PCA\n",
    "pca = PCA()\n",
    "pca.fit(log_transformed_scaled)\n",
    "\n",
    "# Explained variance\n",
    "explained_variance = pca.explained_variance_ratio_\n",
    "\n",
    "# Eigenvectors (principal component loadings)\n",
    "eigenvectors = pca.components_\n",
    "\n",
    "# Convert to DataFrame for better readability\n",
    "pca_results_df = pd.DataFrame(\n",
    "    eigenvectors,\n",
    "    columns=maturities,\n",
    "    index=[f\"PC{i+1}\" for i in range(len(maturities))]\n",
    ")\n",
    "\n",
    "# Display PCA results\n",
    "pca_results_df\n"
   ]
  },
  {
   "cell_type": "code",
   "execution_count": null,
   "id": "fb5306fc",
   "metadata": {},
   "outputs": [],
   "source": [
    "# Plot explained variance\n",
    "plt.figure(figsize=(8, 5))\n",
    "plt.plot(range(1, len(maturities) + 1), explained_variance, marker=\"o\", linestyle=\"-\")\n",
    "plt.xlabel(\"Principal Component\")\n",
    "plt.ylabel(\"Explained Variance Ratio\")\n",
    "plt.title(\"Explained Variance by Principal Component\")\n",
    "plt.grid()\n",
    "plt.show()\n"
   ]
  }
 ],
 "metadata": {},
 "nbformat": 4,
 "nbformat_minor": 5
}
