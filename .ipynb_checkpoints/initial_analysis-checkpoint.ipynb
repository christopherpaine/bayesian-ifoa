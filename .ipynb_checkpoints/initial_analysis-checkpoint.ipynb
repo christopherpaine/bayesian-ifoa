{
 "cells": [
  {
   "cell_type": "markdown",
   "id": "eb582d21-53ae-41d6-a5fb-2e2040f6baa3",
   "metadata": {},
   "source": [
    "\n",
    "### which measure of change in interest rates\n",
    "There are several options:\n",
    "- absolute differences  $ \\Delta y_t = y_t - y_{t-1} $\n",
    "- log differences $ \\Delta y_t = \\log(y_t) - \\log(y_{t-1}) $\n",
    "- percentage change $ \\Delta y_t = \\frac{y_t - y_{t-1}}{y_{t-1}} $\n",
    "\n",
    "abosolute differences don't work well when rates are low. percentage changes can be extremely high when rates are close to zero.  although it is less intuitive log differences ensures percentage changes are comparable across different rate environments.\n",
    "\n",
    "## transforming dataset via principle component analysis \n",
    "To create a parsimonious model for demonstrating the Bayesian technique, we will perform PCA on the raw dataset. This helps reduce noise and extract the most significant patterns of variation. Additionally, it requires fewer parameters than more complex affine term structure models.\n",
    "\n",
    "## Covariance Vs Correlation\n",
    "\n",
    "|Approach   |when to use   |scale |Impact of Variances|\n",
    "|---|---|---|---|\n",
    "|Covariance   | yields at each maturity similar units and variances  |retains original scale of data   | ??magnitude at different maturities has impact <br>|\n",
    "|Correlation   |variances differ by maturity   |standardises data| different volatilities at diffnt maturities doesn't dominate results|\n",
    "\n",
    "?? what are the advantages of using covariances then  ??\n",
    "\n",
    "!!we should probably make a choice with a scatterplot of adjusted dataset!!\n",
    "\n",
    "read here that the two would yield the same results:  https://medium.com/towards-data-science/applying-pca-to-the-yield-curve-4d2023e555b3\n",
    "\n",
    "## Modeling Steps\n",
    "- demeaning the dataset (PCA expects centering around zero)\n",
    "- generate ??covariance or correlation?? matrix\n",
    "- ??eigenvectors and eigenvalues??"
   ]
  },
  {
   "cell_type": "markdown",
   "id": "5812fd03-3a76-47cb-858c-e2567251f230",
   "metadata": {},
   "source": [
    "# Steps\n",
    "- calculate log of change (don't use df.pcnt_  whatever it is)\n",
    "- de mean the dataset\n",
    "- calculate covariance matrix, eigenvalues and eigenvectors\n",
    "- derive a calibration dataset\n",
    "- attempt to fit normal or student-t distribution  (student t better for heavier tails)\n",
    "  - Q Q plot or historgrams  \n",
    "  - q q plot great for seeing if normally distributed\n",
    "- ?? BAYESIAN INFERENCE PARTS OF THE PROCESS ??\n",
    "  - any hyperparameters\n",
    "- ?? DERIVING STRESSES, COMPARING CLASSICAL VS BAYESIAN APPROACH ??\n"
   ]
  },
  {
   "cell_type": "markdown",
   "id": "55cde6e6-2f6f-4065-8a91-0407fe03bb56",
   "metadata": {},
   "source": [
    "## Deriving Stresses\n",
    "$Y_t = \\log {\\frac{X_t}{X_{t-1}}}$ <br><br>\n",
    "simulate $Y_t$<br><br>\n",
    "$ \\exp{Y_t} = \\frac{X_t}{X_{t-1}} $<br><br>\n",
    "$X_{t-1}e^{Y_t}  = X_t $<br><br>\n",
    "$X_t-1$ is current value of the curve and $X_t$ value one year from now"
   ]
  },
  {
   "cell_type": "markdown",
   "id": "816043a6-28ab-494f-9629-bb161087f1eb",
   "metadata": {},
   "source": [
    "### the steps\n",
    "- draw realisation of PC from probablistic model\n",
    "- (if using correlations) rescale using s.d. for each yield maturity\n",
    "- add back the mean"
   ]
  },
  {
   "cell_type": "markdown",
   "id": "ca2555a2-90f2-4ca7-aefb-9bd6be227bda",
   "metadata": {},
   "source": [
    "# Imports"
   ]
  },
  {
   "cell_type": "code",
   "execution_count": 1,
   "id": "b05fc324-1136-4c91-b33a-061e394446bc",
   "metadata": {},
   "outputs": [],
   "source": [
    "from IPython.display import display, Markdown\n",
    "import numpy as np\n",
    "import pandas as pd\n",
    "from tabulate import tabulate\n",
    "import matplotlib as plt"
   ]
  },
  {
   "cell_type": "markdown",
   "id": "96d34c17-0a1d-44f7-baff-b7e016aacfbe",
   "metadata": {},
   "source": [
    "# Getting Raw Data into Dataframes\n"
   ]
  },
  {
   "cell_type": "markdown",
   "id": "a4d0126f-69a6-4755-8077-39a986f4baea",
   "metadata": {},
   "source": [
    "We are initially putting the data into dataframes as these enable mixed data types (and we have here a mixture of dates and numerical values)"
   ]
  },
  {
   "cell_type": "markdown",
   "id": "a55ea870-875d-4a67-a720-3d67332b9dbb",
   "metadata": {},
   "source": [
    "The bank of england provides two spreadsheets with historic spot yields at https://www.bankofengland.co.uk/statistics/yield-curves/\n",
    "we import each of these into a dataframes (df1 and df2) and join to make a single dataframe (df)"
   ]
  },
  {
   "cell_type": "markdown",
   "id": "a63353bc-7b3c-4c41-9be8-2aa0f1fcca36",
   "metadata": {},
   "source": [
    "## Import Libraries"
   ]
  },
  {
   "cell_type": "markdown",
   "id": "3bd28fc5-4474-47ee-ac7d-b5ef8fd86cac",
   "metadata": {},
   "source": [
    "## Load in 1st spreadsheet"
   ]
  },
  {
   "cell_type": "code",
   "execution_count": 2,
   "id": "e7fc954a-9bca-4a1a-b1a3-c4705f56547c",
   "metadata": {},
   "outputs": [],
   "source": [
    "df1 = pd.read_excel(\"GLC Nominal month end data_1970 to 2015.xlsx\",sheet_name=\"4. spot curve\",engine=\"openpyxl\",skiprows=5,header=None)"
   ]
  },
  {
   "cell_type": "markdown",
   "id": "fbb86d75-3386-4f25-b8fe-2861c6f26d5e",
   "metadata": {},
   "source": [
    "### Headers"
   ]
  },
  {
   "cell_type": "code",
   "execution_count": 3,
   "id": "e267fbf5-4d2a-40b6-9941-efdbd8b99e81",
   "metadata": {},
   "outputs": [],
   "source": [
    "col_names=pd.read_excel(\"GLC Nominal month end data_1970 to 2015.xlsx\",sheet_name=\"4. spot curve\",engine=\"openpyxl\",skiprows=3,nrows=1,header=None)\n",
    "col_names[0]=\"Date\"\n",
    "df1.columns = col_names.iloc[0] \n"
   ]
  },
  {
   "cell_type": "markdown",
   "id": "d18825cb-87b8-496b-a3d9-0f91dbfd273b",
   "metadata": {},
   "source": [
    "### Checksum"
   ]
  },
  {
   "cell_type": "markdown",
   "id": "1c22119c-9ca6-4e75-ba73-3e8ba71116e4",
   "metadata": {},
   "source": [
    "#### spreadsheet"
   ]
  },
  {
   "cell_type": "markdown",
   "id": "e512edfe-bbbd-492e-a3f2-c3c57630d8ee",
   "metadata": {},
   "source": [
    "A manual highlight of cells in the spreadsheet"
   ]
  },
  {
   "attachments": {
    "7fac9a66-b78d-4dd9-9282-c8f578823e43.png": {
     "image/png": "[encoded data removed]"
    }
   },
   "cell_type": "markdown",
   "id": "58f28e73-c85a-4d25-b8a9-fca0156cbe50",
   "metadata": {},
   "source": [
    "![{70A61EF4-CF58-400B-97AF-A62781EC304E}.png](attachment:7fac9a66-b78d-4dd9-9282-c8f578823e43.png)"
   ]
  },
  {
   "cell_type": "markdown",
   "id": "0bd5f803-c694-4201-b6fd-9bc79ee45ee7",
   "metadata": {},
   "source": [
    "shows the total value is 191503.17"
   ]
  },
  {
   "cell_type": "markdown",
   "id": "e262dd89-91d7-43d4-9e27-8446f47eb625",
   "metadata": {},
   "source": [
    "#### numpy array"
   ]
  },
  {
   "cell_type": "code",
   "execution_count": 4,
   "id": "810784ba-9fef-49c7-90fa-c771c4dd3928",
   "metadata": {},
   "outputs": [
    {
     "data": {
      "text/plain": [
       "(552, 51)"
      ]
     },
     "execution_count": 4,
     "metadata": {},
     "output_type": "execute_result"
    }
   ],
   "source": [
    "df1.shape"
   ]
  },
  {
   "cell_type": "markdown",
   "id": "7cf8bc13-7a19-45ba-9775-f23253c0379d",
   "metadata": {},
   "source": [
    "The values run from row 0, column 1 to row 551, column 50\n",
    "We put these values into a numpy array and calculate a sum that ignores nil values.  Note np array references are not inlcusive of value after the colon so we add 1 i.e. 0:552,1:52  and NOT 0:551,1:51."
   ]
  },
  {
   "cell_type": "code",
   "execution_count": 5,
   "id": "881e8622-6b73-42a4-b557-34e11fc1978e",
   "metadata": {},
   "outputs": [
    {
     "name": "stdout",
     "output_type": "stream",
     "text": [
      "The sum of values is from array is 191503.1723220289 . \n"
     ]
    }
   ],
   "source": [
    "print(\"The sum of values is from array is \"+str(np.nansum(df1.iloc[0:552,1:51].to_numpy()))+\" . \")"
   ]
  },
  {
   "cell_type": "markdown",
   "id": "208699ed-9e66-4db3-9f88-afacd52e45e8",
   "metadata": {},
   "source": [
    "and we see this is the same as sum of values from the spreadsheet."
   ]
  },
  {
   "cell_type": "markdown",
   "id": "bba91ff9-b182-4f2d-8fea-f6bcb8d5756c",
   "metadata": {},
   "source": [
    "## Load in 2nd Spreadsheet"
   ]
  },
  {
   "cell_type": "code",
   "execution_count": 6,
   "id": "e7513f7b-99b5-467a-840f-d1fccfe6e3d8",
   "metadata": {},
   "outputs": [],
   "source": [
    "#load in second spreadsheet to df2\n",
    "df2 = pd.read_excel(\"GLC Nominal month end data_2016 to present.xlsx\",sheet_name=\"4. spot curve\",engine=\"openpyxl\",skiprows=5,header=None)"
   ]
  },
  {
   "cell_type": "markdown",
   "id": "ea6911a7-f465-40e6-b9a5-f55fd73c05b6",
   "metadata": {},
   "source": [
    "### Headers"
   ]
  },
  {
   "cell_type": "code",
   "execution_count": 7,
   "id": "03b1dc88-d4bb-4d3a-b4a0-bb9d920bf541",
   "metadata": {},
   "outputs": [],
   "source": [
    "col_names2=pd.read_excel(\"GLC Nominal month end data_2016 to present.xlsx\",sheet_name=\"4. spot curve\",engine=\"openpyxl\",skiprows=3,nrows=1,header=None)\n",
    "col_names2[0]=\"Date\"\n",
    "df2.columns = col_names2.iloc[0] \n"
   ]
  },
  {
   "cell_type": "markdown",
   "id": "29a9c364-117f-42ac-9ba0-57f763ea2c18",
   "metadata": {},
   "source": [
    "### Checksum"
   ]
  },
  {
   "cell_type": "markdown",
   "id": "2e457ba6-5fd0-4df0-86a0-d918bb485ea4",
   "metadata": {},
   "source": [
    "#### spreadsheet"
   ]
  },
  {
   "cell_type": "markdown",
   "id": "b0316153-24f3-42d4-9840-3d175f7b3ecf",
   "metadata": {},
   "source": [
    "A manual highlight of cells in the spreadsheet"
   ]
  },
  {
   "attachments": {
    "f9086536-dcab-4f5b-97b7-85fa83be845a.png": {
     "image/png": "[encoded data removed]"
    }
   },
   "cell_type": "markdown",
   "id": "a75ca3b9-109c-44df-8727-5a16fa60cf0d",
   "metadata": {},
   "source": [
    "![{3CA755D4-472C-4E8E-A15F-F9073D665E13}.png](attachment:f9086536-dcab-4f5b-97b7-85fa83be845a.png)"
   ]
  },
  {
   "cell_type": "markdown",
   "id": "024f42d8-72eb-4809-bca6-1b05a8a52da0",
   "metadata": {},
   "source": [
    "shows the total value is 17845.00"
   ]
  },
  {
   "cell_type": "markdown",
   "id": "014178d4-604f-4178-ab02-92dd6ce67843",
   "metadata": {},
   "source": [
    "#### numpy array"
   ]
  },
  {
   "cell_type": "code",
   "execution_count": 8,
   "id": "eb228244-bc7f-4c61-bb26-ebcb21425e5c",
   "metadata": {},
   "outputs": [
    {
     "data": {
      "text/plain": [
       "(108, 81)"
      ]
     },
     "execution_count": 8,
     "metadata": {},
     "output_type": "execute_result"
    }
   ],
   "source": [
    "df2.shape"
   ]
  },
  {
   "cell_type": "markdown",
   "id": "c43b9fcd-8c03-4e4e-9189-7d23dbc4e290",
   "metadata": {},
   "source": [
    "The values run from row 0, column 1 to row 108, column 81\n",
    "We put these values into a numpy array and calculate a sum that ignores nil values.  Note np array references are not inlcusive of value after the colon so we add 1 i.e. 0:109,1:82"
   ]
  },
  {
   "cell_type": "code",
   "execution_count": 9,
   "id": "ab81ea9d-50de-4673-bd90-34614ed102e5",
   "metadata": {},
   "outputs": [
    {
     "name": "stdout",
     "output_type": "stream",
     "text": [
      "The sum of values is from array is 17844.99933087668 . \n"
     ]
    }
   ],
   "source": [
    "print(\"The sum of values is from array is \"+str(np.nansum(df2.iloc[0:109,1:82].to_numpy()))+\" . \")"
   ]
  },
  {
   "cell_type": "markdown",
   "id": "8de1e1a7-1059-4b8a-8daa-6ebf2b71c62b",
   "metadata": {},
   "source": [
    "and we see this is the same as sum of values from the spreadsheet."
   ]
  },
  {
   "cell_type": "markdown",
   "id": "544d5770-e7bc-46a6-a5f8-2d6e59e772d2",
   "metadata": {},
   "source": [
    "## Create Combined DataFrame"
   ]
  },
  {
   "cell_type": "markdown",
   "id": "52d7d5c7-29a3-4cd6-a424-aff7fbed2225",
   "metadata": {},
   "source": [
    "### Problem of more columns"
   ]
  },
  {
   "cell_type": "markdown",
   "id": "b6c53c66-4eca-4ba7-9e98-8e850d28bd4b",
   "metadata": {},
   "source": [
    "### Joining 2 datasets"
   ]
  },
  {
   "cell_type": "code",
   "execution_count": 10,
   "id": "15a968a0-052b-429e-b700-5e79ffc8be7f",
   "metadata": {},
   "outputs": [
    {
     "name": "stdout",
     "output_type": "stream",
     "text": [
      "The length of combined dataframe is 660 rows\n"
     ]
    }
   ],
   "source": [
    "#join the two dataframes to create df\n",
    "df = pd.concat([df1, df2], ignore_index=True)\n",
    "print(\"The length of combined dataframe is \"+str(len(df))+\" rows\")"
   ]
  },
  {
   "cell_type": "markdown",
   "id": "fcf6fe4e-f09a-4c89-adab-f46ca1d0c0cc",
   "metadata": {},
   "source": [
    "### Check Sum of Values"
   ]
  },
  {
   "cell_type": "code",
   "execution_count": 11,
   "id": "74e30f19-8eee-4a6d-8e8c-30e5b316f4f0",
   "metadata": {},
   "outputs": [
    {
     "data": {
      "text/plain": [
       "(660, 81)"
      ]
     },
     "execution_count": 11,
     "metadata": {},
     "output_type": "execute_result"
    }
   ],
   "source": [
    "df.shape"
   ]
  },
  {
   "cell_type": "code",
   "execution_count": 12,
   "id": "94ec1490-8044-413e-8009-1588fd116df4",
   "metadata": {},
   "outputs": [
    {
     "name": "stdout",
     "output_type": "stream",
     "text": [
      "The sum of values is from combined dataframe is 209348.17165290553 . \n"
     ]
    }
   ],
   "source": [
    "print(\"The sum of values is from combined dataframe is \"+str(np.nansum(df.iloc[0:661,1:108].to_numpy()))+\" . \")"
   ]
  },
  {
   "cell_type": "code",
   "execution_count": 13,
   "id": "340d20ff-b1a0-4b2a-bbe1-d67302f5260e",
   "metadata": {},
   "outputs": [
    {
     "name": "stdout",
     "output_type": "stream",
     "text": [
      "The sum of values is from dataframe 1 is 191503.1723220289 . \n",
      "The sum of values is from dataframe 2 is 17844.99933087668 . \n",
      "making a total of 209348.17165290558\n"
     ]
    }
   ],
   "source": [
    "print(\"The sum of values is from dataframe 1 is \"+str(np.nansum(df1.iloc[0:552,1:51].to_numpy()))+\" . \")\n",
    "print(\"The sum of values is from dataframe 2 is \"+str(np.nansum(df2.iloc[0:109,1:82].to_numpy()))+\" . \")\n",
    "print(\"making a total of \"+str(np.nansum(df1.iloc[0:552,1:51].to_numpy())+np.nansum(df2.iloc[0:109,1:82].to_numpy())))"
   ]
  },
  {
   "cell_type": "markdown",
   "id": "bfbde2c3-9c94-4bd6-b33c-f4665318b4a3",
   "metadata": {},
   "source": [
    "### Check Size of Combined DataFrame"
   ]
  },
  {
   "cell_type": "code",
   "execution_count": 14,
   "id": "c468c630-42c7-4eb3-9946-bb9aa8acb982",
   "metadata": {},
   "outputs": [
    {
     "data": {
      "text/markdown": [
       "**Checking Dataframe 1 -  1970 to 2015**"
      ],
      "text/plain": [
       "<IPython.core.display.Markdown object>"
      ]
     },
     "metadata": {},
     "output_type": "display_data"
    },
    {
     "name": "stdout",
     "output_type": "stream",
     "text": [
      "the first dates is 1970-01-31 and the last is 2015-12-31\n",
      "one would therefore expect 12 x 46yrs = 552 entries\n",
      "and indeed we see the number of rows in df is 552\n"
     ]
    }
   ],
   "source": [
    "#producing some sense checks\n",
    "display(Markdown(\"**Checking Dataframe 1 -  1970 to 2015**\")) \n",
    "print(\"the first dates is \"+ str(df.iloc[0,0].strftime('%Y-%m-%d'))+\" and the last is \" +str(df.iloc[551,0].strftime('%Y-%m-%d') ))\n",
    "print(\"one would therefore expect 12 x 46yrs = 552 entries\")\n",
    "print(\"and indeed we see the number of rows in df is \"+str(len(df1)))"
   ]
  },
  {
   "cell_type": "code",
   "execution_count": 15,
   "id": "f179bfde-dad5-418d-b897-525e3d29a742",
   "metadata": {},
   "outputs": [
    {
     "data": {
      "text/markdown": [
       "**Checking Dataframe 2 -  2015 to present**"
      ],
      "text/plain": [
       "<IPython.core.display.Markdown object>"
      ]
     },
     "metadata": {},
     "output_type": "display_data"
    },
    {
     "name": "stdout",
     "output_type": "stream",
     "text": [
      "the first dates is 2016-01-31 and the last is 2024-12-31\n",
      "one would therefore expect 12 x 9yrs = 108 entries\n",
      "and indeed we see the number of rows in df is 108\n"
     ]
    }
   ],
   "source": [
    "display(Markdown(\"**Checking Dataframe 2 -  2015 to present**\")) \n",
    "print(\"the first dates is \"+ str(df.iloc[552,0].strftime('%Y-%m-%d'))+\" and the last is \" +str(df.iloc[659,0].strftime('%Y-%m-%d') ))\n",
    "print(\"one would therefore expect 12 x 9yrs = 108 entries\")\n",
    "print(\"and indeed we see the number of rows in df is \"+str(len(df2)))"
   ]
  },
  {
   "cell_type": "markdown",
   "id": "efd411ae-8ed0-43a0-9a97-a930becd4672",
   "metadata": {},
   "source": [
    "# Choosing Terms to Model"
   ]
  },
  {
   "cell_type": "markdown",
   "id": "441525ab-0433-4820-a5bd-ca3565b21907",
   "metadata": {},
   "source": [
    "An inspection shows that there are a number of terms for which there is not a continuous set of data points:"
   ]
  },
  {
   "cell_type": "code",
   "execution_count": 16,
   "id": "b4c729a9-97bb-4dfb-8fde-5b4cc36979e4",
   "metadata": {},
   "outputs": [
    {
     "data": {
      "image/png": "[encoded data removed]",
      "text/plain": [
       "<Figure size 640x480 with 1 Axes>"
      ]
     },
     "metadata": {},
     "output_type": "display_data"
    }
   ],
   "source": [
    "nan_summary = df.iloc[0:661,1:108].isna().sum()\n",
    "ax = nan_summary.plot.bar(edgecolor='black', xlabel=\"Terms\", ylabel=\"Count of NaN\")\n",
    "ticks = ax.get_xticks();\n",
    "ax.set_xticks(ticks[::3]);  # Show every 5th label"
   ]
  },
  {
   "cell_type": "markdown",
   "id": "0bcf3f6c-e2b7-4910-b658-7272dad93c6e",
   "metadata": {},
   "source": [
    "we see that between terms 2 and 15 there are no missing values so we will choose to model this range for our analysis"
   ]
  },
  {
   "cell_type": "markdown",
   "id": "89789c0e-e3fb-4fc8-8408-fd150c92040d",
   "metadata": {},
   "source": [
    "## NumPy Array with Terms of Interest"
   ]
  },
  {
   "cell_type": "code",
   "execution_count": 17,
   "id": "df36548a-aaf4-440f-b299-aa5b51e1d6cb",
   "metadata": {},
   "outputs": [
    {
     "data": {
      "text/html": [
       "<div>\n",
       "<style scoped>\n",
       "    .dataframe tbody tr th:only-of-type {\n",
       "        vertical-align: middle;\n",
       "    }\n",
       "\n",
       "    .dataframe tbody tr th {\n",
       "        vertical-align: top;\n",
       "    }\n",
       "\n",
       "    .dataframe thead th {\n",
       "        text-align: right;\n",
       "    }\n",
       "</style>\n",
       "<table border=\"1\" class=\"dataframe\">\n",
       "  <thead>\n",
       "    <tr style=\"text-align: right;\">\n",
       "      <th></th>\n",
       "      <th>2.0</th>\n",
       "      <th>2.5</th>\n",
       "      <th>3.0</th>\n",
       "      <th>3.5</th>\n",
       "      <th>4.0</th>\n",
       "      <th>4.5</th>\n",
       "      <th>5.0</th>\n",
       "      <th>5.5</th>\n",
       "      <th>6.0</th>\n",
       "      <th>6.5</th>\n",
       "      <th>...</th>\n",
       "      <th>10.5</th>\n",
       "      <th>11.0</th>\n",
       "      <th>11.5</th>\n",
       "      <th>12.0</th>\n",
       "      <th>12.5</th>\n",
       "      <th>13.0</th>\n",
       "      <th>13.5</th>\n",
       "      <th>14.0</th>\n",
       "      <th>14.5</th>\n",
       "      <th>15.0</th>\n",
       "    </tr>\n",
       "  </thead>\n",
       "  <tbody>\n",
       "    <tr>\n",
       "      <th>0</th>\n",
       "      <td>8.700727</td>\n",
       "      <td>8.664049</td>\n",
       "      <td>8.618702</td>\n",
       "      <td>8.572477</td>\n",
       "      <td>8.528372</td>\n",
       "      <td>8.487617</td>\n",
       "      <td>8.450611</td>\n",
       "      <td>8.417442</td>\n",
       "      <td>8.388098</td>\n",
       "      <td>8.362503</td>\n",
       "      <td>...</td>\n",
       "      <td>8.280665</td>\n",
       "      <td>8.284653</td>\n",
       "      <td>8.291604</td>\n",
       "      <td>8.301467</td>\n",
       "      <td>8.314193</td>\n",
       "      <td>8.329735</td>\n",
       "      <td>8.348046</td>\n",
       "      <td>8.369082</td>\n",
       "      <td>8.392797</td>\n",
       "      <td>8.419147</td>\n",
       "    </tr>\n",
       "    <tr>\n",
       "      <th>1</th>\n",
       "      <td>8.370748</td>\n",
       "      <td>8.337633</td>\n",
       "      <td>8.301590</td>\n",
       "      <td>8.265403</td>\n",
       "      <td>8.230804</td>\n",
       "      <td>8.198713</td>\n",
       "      <td>8.169617</td>\n",
       "      <td>8.143742</td>\n",
       "      <td>8.121153</td>\n",
       "      <td>8.101810</td>\n",
       "      <td>...</td>\n",
       "      <td>8.052353</td>\n",
       "      <td>8.058128</td>\n",
       "      <td>8.066338</td>\n",
       "      <td>8.076922</td>\n",
       "      <td>8.089823</td>\n",
       "      <td>8.104981</td>\n",
       "      <td>8.122341</td>\n",
       "      <td>8.141845</td>\n",
       "      <td>8.163439</td>\n",
       "      <td>8.187068</td>\n",
       "    </tr>\n",
       "    <tr>\n",
       "      <th>2</th>\n",
       "      <td>7.795017</td>\n",
       "      <td>7.793104</td>\n",
       "      <td>7.784963</td>\n",
       "      <td>7.775288</td>\n",
       "      <td>7.766459</td>\n",
       "      <td>7.759564</td>\n",
       "      <td>7.755068</td>\n",
       "      <td>7.753158</td>\n",
       "      <td>7.753877</td>\n",
       "      <td>7.757181</td>\n",
       "      <td>...</td>\n",
       "      <td>7.866238</td>\n",
       "      <td>7.889200</td>\n",
       "      <td>7.914059</td>\n",
       "      <td>7.940769</td>\n",
       "      <td>7.969285</td>\n",
       "      <td>7.999563</td>\n",
       "      <td>8.031559</td>\n",
       "      <td>8.065233</td>\n",
       "      <td>8.100543</td>\n",
       "      <td>8.137446</td>\n",
       "    </tr>\n",
       "    <tr>\n",
       "      <th>3</th>\n",
       "      <td>7.973522</td>\n",
       "      <td>8.002442</td>\n",
       "      <td>7.992813</td>\n",
       "      <td>7.967524</td>\n",
       "      <td>7.938335</td>\n",
       "      <td>7.911422</td>\n",
       "      <td>7.890054</td>\n",
       "      <td>7.875751</td>\n",
       "      <td>7.868985</td>\n",
       "      <td>7.869583</td>\n",
       "      <td>...</td>\n",
       "      <td>8.086202</td>\n",
       "      <td>8.135084</td>\n",
       "      <td>8.188049</td>\n",
       "      <td>8.244910</td>\n",
       "      <td>8.305491</td>\n",
       "      <td>8.369616</td>\n",
       "      <td>8.437121</td>\n",
       "      <td>8.507840</td>\n",
       "      <td>8.581615</td>\n",
       "      <td>8.658289</td>\n",
       "    </tr>\n",
       "    <tr>\n",
       "      <th>4</th>\n",
       "      <td>7.862182</td>\n",
       "      <td>7.877510</td>\n",
       "      <td>7.840673</td>\n",
       "      <td>7.782249</td>\n",
       "      <td>7.718053</td>\n",
       "      <td>7.656856</td>\n",
       "      <td>7.603548</td>\n",
       "      <td>7.560502</td>\n",
       "      <td>7.528577</td>\n",
       "      <td>7.507706</td>\n",
       "      <td>...</td>\n",
       "      <td>7.681382</td>\n",
       "      <td>7.740075</td>\n",
       "      <td>7.805967</td>\n",
       "      <td>7.878785</td>\n",
       "      <td>7.958263</td>\n",
       "      <td>8.044140</td>\n",
       "      <td>8.136160</td>\n",
       "      <td>8.234069</td>\n",
       "      <td>8.337616</td>\n",
       "      <td>8.446554</td>\n",
       "    </tr>\n",
       "  </tbody>\n",
       "</table>\n",
       "<p>5 rows × 27 columns</p>\n",
       "</div>"
      ],
      "text/plain": [
       "0      2.0       2.5       3.0       3.5       4.0       4.5       5.0   \\\n",
       "0  8.700727  8.664049  8.618702  8.572477  8.528372  8.487617  8.450611   \n",
       "1  8.370748  8.337633  8.301590  8.265403  8.230804  8.198713  8.169617   \n",
       "2  7.795017  7.793104  7.784963  7.775288  7.766459  7.759564  7.755068   \n",
       "3  7.973522  8.002442  7.992813  7.967524  7.938335  7.911422  7.890054   \n",
       "4  7.862182  7.877510  7.840673  7.782249  7.718053  7.656856  7.603548   \n",
       "\n",
       "0      5.5       6.0       6.5   ...      10.5      11.0      11.5      12.0  \\\n",
       "0  8.417442  8.388098  8.362503  ...  8.280665  8.284653  8.291604  8.301467   \n",
       "1  8.143742  8.121153  8.101810  ...  8.052353  8.058128  8.066338  8.076922   \n",
       "2  7.753158  7.753877  7.757181  ...  7.866238  7.889200  7.914059  7.940769   \n",
       "3  7.875751  7.868985  7.869583  ...  8.086202  8.135084  8.188049  8.244910   \n",
       "4  7.560502  7.528577  7.507706  ...  7.681382  7.740075  7.805967  7.878785   \n",
       "\n",
       "0      12.5      13.0      13.5      14.0      14.5      15.0  \n",
       "0  8.314193  8.329735  8.348046  8.369082  8.392797  8.419147  \n",
       "1  8.089823  8.104981  8.122341  8.141845  8.163439  8.187068  \n",
       "2  7.969285  7.999563  8.031559  8.065233  8.100543  8.137446  \n",
       "3  8.305491  8.369616  8.437121  8.507840  8.581615  8.658289  \n",
       "4  7.958263  8.044140  8.136160  8.234069  8.337616  8.446554  \n",
       "\n",
       "[5 rows x 27 columns]"
      ]
     },
     "execution_count": 17,
     "metadata": {},
     "output_type": "execute_result"
    }
   ],
   "source": [
    "df.iloc[0:661,4:31].head()"
   ]
  },
  {
   "cell_type": "code",
   "execution_count": 18,
   "id": "192398fc-7faa-42d8-bd53-e60393eca2ff",
   "metadata": {},
   "outputs": [],
   "source": [
    "np_ToI = df.iloc[0:661,4:31].to_numpy()"
   ]
  },
  {
   "cell_type": "markdown",
   "id": "8bc1ae7d-200e-497d-b293-c879c3c5d307",
   "metadata": {},
   "source": [
    "# Data Adjustments"
   ]
  },
  {
   "cell_type": "markdown",
   "id": "41bb6669-7dc5-4b66-a801-fd3942140a7e",
   "metadata": {},
   "source": [
    "Our aim is to model the log differences in spot yields.  However there is a brief period around March 2020 where short term rates dipped below zero. "
   ]
  },
  {
   "attachments": {
    "fcf0d0f0-3b22-4a73-a8e3-2cc850249fcf.png": {
     "image/png": "[encoded data removed]"
    }
   },
   "cell_type": "markdown",
   "id": "32d628fc-25ff-40d9-8a4f-57806029f949",
   "metadata": {},
   "source": [
    "![{A2EBC333-AC3D-4237-ABB8-5EAD43D2DB4C}.png](attachment:fcf0d0f0-3b22-4a73-a8e3-2cc850249fcf.png)"
   ]
  },
  {
   "cell_type": "markdown",
   "id": "266a14f9-f2d5-47ad-9ba5-f61b9aa79b4f",
   "metadata": {},
   "source": [
    "These are problematic for the calculation of logs.  For ease of analysis we remove these values and interpolate between the positive values in the month before and after the start of the -ve period"
   ]
  },
  {
   "cell_type": "markdown",
   "id": "7c2821f9-baa7-430a-81f2-a09e5c992829",
   "metadata": {},
   "source": [
    "## Removing Negatives"
   ]
  },
  {
   "cell_type": "code",
   "execution_count": 19,
   "id": "f356ef59-e7f3-42b1-bcbd-a4603de11d4f",
   "metadata": {},
   "outputs": [],
   "source": [
    "np_ToI_no_negs = np_ToI.copy()\n",
    "np_ToI_no_negs[np_ToI_no_negs <= 0] = np.nan"
   ]
  },
  {
   "attachments": {
    "fffdc0b1-41bd-4bd3-9e85-7316665e325f.png": {
     "image/png": "[encoded data removed]"
    }
   },
   "cell_type": "markdown",
   "id": "bc925d0d-3c8f-4f0d-a67e-ffacc960910b",
   "metadata": {},
   "source": [
    "![{54ED2064-9D24-4AA5-A4D3-E62F44054BFA}.png](attachment:fffdc0b1-41bd-4bd3-9e85-7316665e325f.png)"
   ]
  },
  {
   "cell_type": "markdown",
   "id": "ad9ccf7a-f888-478c-9b5f-d6f963cef2f4",
   "metadata": {},
   "source": [
    "## Interpolating Gaps"
   ]
  },
  {
   "cell_type": "code",
   "execution_count": 20,
   "id": "65c56a80-41c3-44b8-9b7d-5ff84a2a3744",
   "metadata": {},
   "outputs": [],
   "source": [
    "# Convert to a DataFrame for interpolation\n",
    "df_ToI_no_negs = pd.DataFrame(np_ToI_no_negs)\n",
    "\n",
    "# Interpolate down the columns\n",
    "df_ToI_no_negs_interpolated = df_ToI_no_negs.interpolate(method='linear', axis=0)\n",
    "\n",
    "# Convert back to NumPy\n",
    "np_ToI_no_negs_interpolated = df_ToI_no_negs_interpolated.to_numpy()"
   ]
  },
  {
   "cell_type": "markdown",
   "id": "2f252d71-9490-4bea-91ca-be04350c820d",
   "metadata": {},
   "source": [
    "## Log Yields"
   ]
  },
  {
   "cell_type": "markdown",
   "id": "401a051c-2d01-4a16-85f0-4216b7e945e6",
   "metadata": {},
   "source": [
    "we calculate the natural log of the spot yields"
   ]
  },
  {
   "cell_type": "code",
   "execution_count": 21,
   "id": "607b90f4-7e12-4703-b835-9a88810d2072",
   "metadata": {},
   "outputs": [],
   "source": [
    "np_ToI_logged = np.log(np_ToI_no_negs_interpolated)"
   ]
  },
  {
   "attachments": {
    "bbae329c-8bf9-47b7-a0b5-ace76a01d3e2.png": {
     "image/png": "[encoded data removed]"
    }
   },
   "cell_type": "markdown",
   "id": "50a9903a-d43b-46fe-85f5-5544335e0e48",
   "metadata": {},
   "source": [
    "![{9BBABC4B-2728-4BC1-9630-0BFBFD6DCA5D}.png](attachment:bbae329c-8bf9-47b7-a0b5-ace76a01d3e2.png)"
   ]
  },
  {
   "cell_type": "markdown",
   "id": "498b4c6c-9561-4576-8193-350dc21b5bac",
   "metadata": {},
   "source": [
    "## Calculating Yield Differences"
   ]
  },
  {
   "cell_type": "markdown",
   "id": "1d92a046-a630-442d-9043-a154ca4f4348",
   "metadata": {},
   "source": [
    "### Spot Yield Differences"
   ]
  },
  {
   "cell_type": "markdown",
   "id": "cbb45291-6a54-4244-992a-953622122ee2",
   "metadata": {},
   "source": [
    "For each term of interest we calculate value of each natural log spot rate less the value of the natural log spot rate 1 year prior"
   ]
  },
  {
   "cell_type": "code",
   "execution_count": 22,
   "id": "c44115ad-a27d-43f1-a9ca-9c34db70e88a",
   "metadata": {},
   "outputs": [],
   "source": [
    "lag = 12\n",
    "diffs = np_ToI[lag:] - np_ToI[:-lag]\n"
   ]
  },
  {
   "cell_type": "markdown",
   "id": "9d587a31-fa54-42cd-a896-27c701d5ee15",
   "metadata": {},
   "source": [
    "### sense check"
   ]
  },
  {
   "cell_type": "markdown",
   "id": "23f86c04-db37-49be-a471-0a1eb5c87af5",
   "metadata": {},
   "source": [
    "We are interested in terms 2 to 15.  This includes half years so we have 27 columns.\n",
    "There are 660 rows of data.  Since differences use a lag of 12 we will have 12 less rows  648."
   ]
  },
  {
   "cell_type": "code",
   "execution_count": 23,
   "id": "de9ecb66-d8e4-4c48-9f02-3c753ffd7478",
   "metadata": {},
   "outputs": [
    {
     "name": "stdout",
     "output_type": "stream",
     "text": [
      "(648, 27)\n",
      "(648, 27)\n"
     ]
    }
   ],
   "source": [
    "print(np_ToI[0:648].shape)\n",
    "print(np_ToI[12:661].shape)"
   ]
  },
  {
   "cell_type": "markdown",
   "id": "4b8b7667-d604-4959-b182-47fe587e0c05",
   "metadata": {},
   "source": [
    "The total value of differences should equate to the sum of rows 12:661 less sum of rows 0:648"
   ]
  },
  {
   "cell_type": "code",
   "execution_count": 24,
   "id": "676f69b3-748a-458c-8dd2-a03beb34331a",
   "metadata": {},
   "outputs": [
    {
     "data": {
      "text/plain": [
       "np.float64(-1195.332302692288)"
      ]
     },
     "execution_count": 24,
     "metadata": {},
     "output_type": "execute_result"
    }
   ],
   "source": [
    "np.sum(np_ToI[12:661])-np.sum(np_ToI[0:648])"
   ]
  },
  {
   "cell_type": "code",
   "execution_count": 25,
   "id": "c7b1d4a2-1fa2-4b0e-8da0-89d6fc566b6c",
   "metadata": {},
   "outputs": [
    {
     "data": {
      "text/plain": [
       "np.float64(-1195.3323026922997)"
      ]
     },
     "execution_count": 25,
     "metadata": {},
     "output_type": "execute_result"
    }
   ],
   "source": [
    "np.sum(diffs)"
   ]
  },
  {
   "cell_type": "markdown",
   "id": "d78def9f-f66e-4c18-ad91-c71f7fb341c2",
   "metadata": {},
   "source": [
    "### spot check"
   ]
  },
  {
   "cell_type": "markdown",
   "id": "42414734-14f1-435f-ba91-47dbda7da86f",
   "metadata": {},
   "source": [
    " <span style=\"color:red\">we work through a couple of examples from raw data to the end to make sure same in output</span>"
   ]
  },
  {
   "cell_type": "markdown",
   "id": "4b2b256e-a346-4101-b45b-78b516da5965",
   "metadata": {},
   "source": [
    "## De Mean"
   ]
  },
  {
   "cell_type": "markdown",
   "id": "81e6f8e0-4817-4f3a-afe7-bb8a4a63ec32",
   "metadata": {},
   "source": [
    "### Calc Mean for Each Column and Deduct"
   ]
  },
  {
   "cell_type": "code",
   "execution_count": 27,
   "id": "e3074cfd-0a57-47c8-85b2-164fb2efe507",
   "metadata": {},
   "outputs": [
    {
     "name": "stdout",
     "output_type": "stream",
     "text": [
      "[-0.06410644 -0.06534015 -0.06597143 -0.06629206 -0.06644683 -0.06651528\n",
      " -0.06654538 -0.06656575 -0.06659277 -0.06663564 -0.06670102 -0.06679567\n",
      " -0.06692646 -0.06710001 -0.06732251 -0.06759952 -0.06793593 -0.06833595\n",
      " -0.06880317 -0.06934063 -0.06995092 -0.07063622 -0.07139829 -0.07223853\n",
      " -0.07315798 -0.0741573  -0.07523678]\n"
     ]
    }
   ],
   "source": [
    "# Compute the mean of each column\n",
    "column_means = diffs.mean(axis=0)\n",
    "print(column_means)\n",
    "# Subtract the column means from the original array\n",
    "demeaned_A = diffs - column_means"
   ]
  },
  {
   "cell_type": "markdown",
   "id": "dfa3be5f-c542-402d-b409-0e8cca4f68de",
   "metadata": {},
   "source": [
    "### Sense Checks"
   ]
  },
  {
   "cell_type": "markdown",
   "id": "5efebdad-c173-41c9-8aa8-9eb9ae2770fa",
   "metadata": {},
   "source": [
    "#### Check the means"
   ]
  },
  {
   "cell_type": "code",
   "execution_count": 30,
   "id": "2ebba153-945a-4c4d-9823-ed8ca32e559b",
   "metadata": {},
   "outputs": [
    {
     "data": {
      "text/plain": [
       "(648, 27)"
      ]
     },
     "execution_count": 30,
     "metadata": {},
     "output_type": "execute_result"
    }
   ],
   "source": [
    "diffs.shape"
   ]
  },
  {
   "cell_type": "markdown",
   "id": "f3ed523b-59c4-4da2-843a-ae456e083a20",
   "metadata": {},
   "source": [
    "The sum of means * number of rows should aggregate to the sum of all entrie"
   ]
  },
  {
   "cell_type": "code",
   "execution_count": 34,
   "id": "19b3f752-1c8a-4ab6-9b51-b6011fdacf3f",
   "metadata": {},
   "outputs": [
    {
     "data": {
      "text/plain": [
       "np.float64(-1195.3323026922997)"
      ]
     },
     "execution_count": 34,
     "metadata": {},
     "output_type": "execute_result"
    }
   ],
   "source": [
    "(column_means *648).sum()"
   ]
  },
  {
   "cell_type": "code",
   "execution_count": 38,
   "id": "f4cb62b2-0db3-44f7-85f0-8f0ec026a175",
   "metadata": {},
   "outputs": [
    {
     "data": {
      "text/plain": [
       "np.float64(-1195.3323026922997)"
      ]
     },
     "execution_count": 38,
     "metadata": {},
     "output_type": "execute_result"
    }
   ],
   "source": [
    "diffs.sum()"
   ]
  },
  {
   "cell_type": "markdown",
   "id": "f3977b33-db2a-49e0-b9d9-e08e3a7b8389",
   "metadata": {},
   "source": [
    "#### Check the de-meaned dataset"
   ]
  },
  {
   "cell_type": "markdown",
   "id": "cf3136c7-3de2-42ef-867a-be4dc653c126",
   "metadata": {},
   "source": [
    "The sum of values in a demeaned dataset should equal zero.  Furthermore, the sum of values in the original dataset less the mean * number of rows should also equal zero."
   ]
  },
  {
   "cell_type": "code",
   "execution_count": 42,
   "id": "41442a5b-b377-4b6d-b372-cafc781d1d71",
   "metadata": {},
   "outputs": [
    {
     "data": {
      "text/plain": [
       "np.float64(-0.0)"
      ]
     },
     "execution_count": 42,
     "metadata": {},
     "output_type": "execute_result"
    }
   ],
   "source": [
    "round(demeaned_A.sum(),7)"
   ]
  },
  {
   "cell_type": "code",
   "execution_count": 40,
   "id": "0636c613-ddd7-477c-becd-af1249da9fb2",
   "metadata": {},
   "outputs": [
    {
     "name": "stdout",
     "output_type": "stream",
     "text": [
      "0.0\n"
     ]
    }
   ],
   "source": [
    "print(diffs.sum() - (column_means *648).sum())"
   ]
  },
  {
   "cell_type": "markdown",
   "id": "2d3ede56-a235-4eeb-9f24-7264a157da35",
   "metadata": {},
   "source": [
    "### spot check"
   ]
  },
  {
   "cell_type": "markdown",
   "id": "96141656-290c-49e7-9389-18f47377dd8a",
   "metadata": {},
   "source": [
    " <span style=\"color:red\">we work through a couple of examples from raw data to the end to make sure same in output</span>"
   ]
  },
  {
   "cell_type": "markdown",
   "id": "3376cba0-ae01-4ce8-bb01-4a9f1c011aa3",
   "metadata": {},
   "source": [
    "#  <span style=\"color:red\">Covariance or Correlation</span>"
   ]
  },
  {
   "cell_type": "code",
   "execution_count": 43,
   "id": "c35dfdcb-9f9b-494d-b7db-973843d86452",
   "metadata": {},
   "outputs": [
    {
     "data": {
      "text/plain": [
       "numpy.ndarray"
      ]
     },
     "execution_count": 43,
     "metadata": {},
     "output_type": "execute_result"
    }
   ],
   "source": [
    "type(demeaned_A)"
   ]
  },
  {
   "cell_type": "code",
   "execution_count": 46,
   "id": "42fc5f5e-4f0b-452d-a553-bf05ebd082fc",
   "metadata": {},
   "outputs": [],
   "source": [
    "covariance_matrix = np.cov(demeaned_A)\n",
    "correlation_matrix = np.corrcoef(demeaned_A)"
   ]
  },
  {
   "cell_type": "markdown",
   "id": "fdc8144f-aa1e-4fff-83fc-d83d0f3bbc20",
   "metadata": {},
   "source": [
    "# Incorporating Bayesian Framework"
   ]
  },
  {
   "cell_type": "markdown",
   "id": "cc7ebb68-ebb5-44ae-9808-c3915952c71d",
   "metadata": {},
   "source": [
    "PCA reveals latent factors ("
   ]
  },
  {
   "cell_type": "markdown",
   "id": "4776caf7-7a92-4af3-9854-2eaf2c519592",
   "metadata": {},
   "source": [
    "Having decided to model interest principle components, which economic outlooks correspond to these components:"
   ]
  },
  {
   "cell_type": "markdown",
   "id": "3ea4c9f9-5055-4f79-a09a-3886ae7fb888",
   "metadata": {},
   "source": [
    "|Principle Component   |Relevant Insights   |\n",
    "|---|---|\n",
    "|PC1|level of interest rates  -  expected prolonged rates or gradual hiking against prolonged inflation |\n",
    "|PC2|slope  -  short term vs long term expectations   |\n",
    "|PC3|curvature  -   short term vs long term expectations   |\n",
    "\n"
   ]
  },
  {
   "cell_type": "markdown",
   "id": "0e8125ea-d40e-48b7-bfaf-b6cba5713fba",
   "metadata": {},
   "source": [
    "coud the bayesian rules enforce arbitrage freeness ??"
   ]
  },
  {
   "cell_type": "markdown",
   "id": "a581f126-e9e0-45d7-826b-2ce34d5cb8ae",
   "metadata": {},
   "source": [
    "- Economic theory imposes contraints of the first moments (see https://www.nber.org/system/files/working_papers/w24618/w24618.pdf)"
   ]
  },
  {
   "cell_type": "markdown",
   "id": "de91d687-1c22-4929-b884-25280427ca1a",
   "metadata": {},
   "source": [
    "# Some links\n",
    "https://www.thegoldensource.com/pca-and-the-term-structure/#:~:text=The%20purpose%20of%20PCA%20is,14%20orthogonal%20lines%20using%20eigenvectors."
   ]
  },
  {
   "cell_type": "code",
   "execution_count": null,
   "id": "e14b49cb-3610-4013-9627-2d8351cc6de9",
   "metadata": {},
   "outputs": [],
   "source": []
  }
 ],
 "metadata": {
  "kernelspec": {
   "display_name": "Python 3 (ipykernel)",
   "language": "python",
   "name": "python3"
  },
  "language_info": {
   "codemirror_mode": {
    "name": "ipython",
    "version": 3
   },
   "file_extension": ".py",
   "mimetype": "text/x-python",
   "name": "python",
   "nbconvert_exporter": "python",
   "pygments_lexer": "ipython3",
   "version": "3.12.8"
  }
 },
 "nbformat": 4,
 "nbformat_minor": 5
}
